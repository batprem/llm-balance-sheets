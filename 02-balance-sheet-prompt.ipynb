{
  "cells": [
    {
      "cell_type": "markdown",
      "source": [
        "# Set up environment\n",
        "## Install libs"
      ],
      "metadata": {
        "id": "5-mq4MppEBmJ"
      },
      "id": "5-mq4MppEBmJ"
    },
    {
      "cell_type": "code",
      "execution_count": null,
      "id": "431d12f0",
      "metadata": {
        "id": "431d12f0"
      },
      "outputs": [],
      "source": [
        "!pip install -q plotly==5.20.0 python-dotenv openai==1.42.0 \"httpx<0.28\"\n",
        "\n",
        "\n",
        "try:\n",
        "    from dotenv import load_dotenv\n",
        "\n",
        "    load_dotenv()\n",
        "except ImportError:\n",
        "    pass"
      ]
    },
    {
      "cell_type": "markdown",
      "source": [
        "## Clone git repository"
      ],
      "metadata": {
        "id": "Fe-6U7JbFD97"
      },
      "id": "Fe-6U7JbFD97"
    },
    {
      "cell_type": "code",
      "source": [
        "import os\n",
        "\n",
        "\n",
        "try:\n",
        "    import google.colab\n",
        "    IN_COLAB = True\n",
        "except:\n",
        "    IN_COLAB = False\n",
        "\n",
        "if IN_COLAB and \".git\" not in os.listdir():\n",
        "    !git init .\n",
        "    !git remote add origin https://github.com/batprem/llm-balance-sheets\n",
        "    !git pull origin main"
      ],
      "metadata": {
        "id": "PAyGyS_nFDUD"
      },
      "id": "PAyGyS_nFDUD",
      "execution_count": null,
      "outputs": []
    },
    {
      "cell_type": "markdown",
      "source": [
        "# Install Thai font"
      ],
      "metadata": {
        "id": "sOBv5kRpPxFc"
      },
      "id": "sOBv5kRpPxFc"
    },
    {
      "cell_type": "code",
      "source": [
        "# Reference: https://medium.com/@arttantra.art/%E0%B9%80%E0%B8%9E%E0%B8%B4%E0%B9%88%E0%B8%A1%E0%B8%9F%E0%B8%AD%E0%B8%99%E0%B8%95%E0%B9%8C%E0%B9%84%E0%B8%97%E0%B8%A2%E0%B9%83%E0%B8%99-jupyter-notebook-add-thai-font-to-jupyter-notebook-916b4d95586b\n",
        "\n",
        "import matplotlib\n",
        "import matplotlib.font_manager as fm\n",
        "from os import path\n",
        "if not path.exists('Sarabun-Regular.ttf'):\n",
        "    !wget https://github.com/google/fonts/raw/main/ofl/sarabun/Sarabun-Regular.ttf -O Sarabun-Regular.ttf\n",
        "\n",
        "if 'Sarabun' not in [x.name for x in matplotlib.font_manager.fontManager.ttflist]:\n",
        "    matplotlib.font_manager.fontManager.addfont('Sarabun-Regular.ttf')\n",
        "matplotlib.rc('font', family='Sarabun')"
      ],
      "metadata": {
        "id": "oMCL5SxPPwFa"
      },
      "id": "oMCL5SxPPwFa",
      "execution_count": null,
      "outputs": []
    },
    {
      "cell_type": "markdown",
      "source": [
        "# Set up environment variables"
      ],
      "metadata": {
        "id": "WBPcWy7pE4oA"
      },
      "id": "WBPcWy7pE4oA"
    },
    {
      "cell_type": "code",
      "source": [
        "if IN_COLAB:\n",
        "    from google.colab import userdata\n",
        "\n",
        "    GEMINI_API_KEY = userdata.get(\"GEMINI_API_KEY\")\n",
        "    TYPHOON_API_KEY = userdata.get(\"TYPHOON_API_KEY\")\n",
        "else:\n",
        "    GEMINI_API_KEY = os.environ.get(\"GEMINI_API_KEY\")\n",
        "    TYPHOON_API_KEY = os.environ.get(\"TYPHOON_API_KEY\")"
      ],
      "metadata": {
        "id": "Qla-KVwrFOCF"
      },
      "id": "Qla-KVwrFOCF",
      "execution_count": null,
      "outputs": []
    },
    {
      "cell_type": "markdown",
      "id": "3a3b07d1",
      "metadata": {
        "id": "3a3b07d1"
      },
      "source": [
        "# Set up Typhoon API"
      ]
    },
    {
      "cell_type": "code",
      "execution_count": null,
      "id": "50d2b2f3",
      "metadata": {
        "id": "50d2b2f3"
      },
      "outputs": [],
      "source": [
        "import os\n",
        "from dotenv import load_dotenv\n",
        "from openai import OpenAI\n",
        "import google.generativeai as genai\n",
        "from typing_extensions import TypedDict\n",
        "from IPython.display import Markdown\n",
        "\n",
        "\n",
        "MODEL = \"typhoon-v1.5x-70b-instruct\"\n",
        "genai.configure(api_key=GEMINI_API_KEY)\n",
        "\n",
        "\n",
        "\n",
        "client = OpenAI(\n",
        "   api_key=TYPHOON_API_KEY,\n",
        "   base_url='https://api.opentyphoon.ai/v1'\n",
        ")\n",
        "\n",
        "\n",
        "class ChatTurn(TypedDict):\n",
        "    role: str\n",
        "    content: str"
      ]
    },
    {
      "cell_type": "markdown",
      "source": [
        "## Set up Typhoon completion"
      ],
      "metadata": {
        "id": "sJrQpbRZGEGy"
      },
      "id": "sJrQpbRZGEGy"
    },
    {
      "cell_type": "code",
      "source": [
        "def get_open_ai_completion(\n",
        "    prompt: str,\n",
        "    model: str = MODEL,\n",
        "    stream: bool = False,\n",
        "    initial_message: list[ChatTurn]| None = None,\n",
        "    temperature: float = 0\n",
        ") -> str:\n",
        "    if initial_message is None:\n",
        "        initial_message = []\n",
        "    messages = [{\"role\": \"user\", \"content\": prompt}]\n",
        "    response = client.chat.completions.create(\n",
        "        model=model, messages=messages, temperature=temperature, stream=stream\n",
        "    )\n",
        "    if not stream:\n",
        "        return response.choices[0].message.content\n",
        "    else:\n",
        "        result = \"\"\n",
        "        for chunk in response:\n",
        "            content = chunk.choices[0].delta.content\n",
        "            print(content, end=\"\")\n",
        "            if isinstance(content, str):\n",
        "                result += content\n",
        "        return result"
      ],
      "metadata": {
        "id": "NO-MUez-GDVS"
      },
      "id": "NO-MUez-GDVS",
      "execution_count": null,
      "outputs": []
    },
    {
      "cell_type": "markdown",
      "id": "5438d0b8",
      "metadata": {
        "id": "5438d0b8"
      },
      "source": [
        "# Set up GEMINI completion"
      ]
    },
    {
      "cell_type": "code",
      "execution_count": null,
      "id": "de6a66b7",
      "metadata": {
        "id": "de6a66b7"
      },
      "outputs": [],
      "source": [
        "def get_gemini_completion(\n",
        "    prompt: str,\n",
        "    stream: bool = False,\n",
        ") -> str:\n",
        "    model = genai.GenerativeModel(\"gemini-1.5-flash\")\n",
        "    response = model.generate_content(prompt)\n",
        "    return response.text\n",
        "\n"
      ]
    },
    {
      "cell_type": "markdown",
      "source": [
        "# Run Balance sheet analytics\n",
        "## Basic analyse"
      ],
      "metadata": {
        "id": "z_qjwMvvGOtP"
      },
      "id": "z_qjwMvvGOtP"
    },
    {
      "cell_type": "code",
      "execution_count": null,
      "id": "e9666a62",
      "metadata": {
        "scrolled": false,
        "id": "e9666a62"
      },
      "outputs": [],
      "source": [
        "prompt = \"\"\"\n",
        "The stock KBANK is a bussiness mentioned in Thai \"ธนาคารกสิกรไทย จํากัด (มหาชน) ประกอบกิจการธนาคารพาณิชย์ ธุรกิจ หลักทรัพย์และธุรกิจท่ีเก่ียวเนื่องตามที่ได้รับอนุญาตไว้ในพระราชบัญญัติธุรกิจ สถาบันการเงินฯ และพระราชบัญญัติหลักทรัพย์และตลาดหลักทรัพย์ฯ และ ประกาศที่เกี่ยวข้อง โดย ณ วันที่ 31 ธันวาคม 2566 ธนาคารมีเครือข่ายสาขา จํานวน 809 สาขา และเครื่องอิเล็กทรอนิกส์สําหรับทําธุรกรรมด้วยตนเอง 10,903 เครื่อง ครอบคลุมทุกพื้นท่ีและเพียงพอต่อความต้องการของลูกค้า นอกจากน้ี ธนาคารมีเครือข่ายการให้บริการในต่างประเทศรวม 16 แห่ง ใน 8 ประเทศ มีศูนย์กลางการดําเนินงานและให้บริการท่ีสํานักงานใหญ่\"\n",
        "\n",
        "\n",
        "Balance sheet detail\n",
        "\n",
        "\n",
        "| detail                         | 2564           | 2565           | 2566           |\n",
        "|:-------------------------------|:---------------|:---------------|:---------------|\n",
        "| รายได้จากการดำเนินงานรวม (พันบาท) | 163,348,945.00 | 173,257,605.00 | 192,653,621.00 |\n",
        "| รายได้จากในประเทศ (พันบาท)       | 163,348,945.00 | 173,257,605.00 | 192,653,621.00 |\n",
        "| รายได้จากต่างประเทศ (พันบาท)      | 0.00           | 0.00           | 0.00           |\n",
        "| รายได้จากการดำเนินงานรวม (%)     | 100.00         | 100.00         | 100.00         |\n",
        "| รายได้จากในประเทศ (%)           | 100.00         | 100.00         | 100.00         |\n",
        "| รายได้จากต่างประเทศ (%)          | 0.00           | 0.00           | 0.00           |\n",
        "\n",
        "\n",
        "Act as finanical analyst and analyse balance sheet in Markdown format\n",
        "\"\"\""
      ]
    },
    {
      "cell_type": "code",
      "source": [
        "Markdown(get_open_ai_completion(prompt, stream=False))"
      ],
      "metadata": {
        "id": "SCPniXQuG6Hr"
      },
      "id": "SCPniXQuG6Hr",
      "execution_count": null,
      "outputs": []
    },
    {
      "cell_type": "code",
      "execution_count": null,
      "id": "0865cc6d",
      "metadata": {
        "id": "0865cc6d"
      },
      "outputs": [],
      "source": [
        "Markdown(get_gemini_completion(prompt, stream=False))"
      ]
    },
    {
      "cell_type": "code",
      "execution_count": null,
      "id": "8a27bc83",
      "metadata": {
        "id": "8a27bc83"
      },
      "outputs": [],
      "source": [
        "prompt = \"\"\"\n",
        "The stock KBANK is a bussiness mentioned in Thai \"ธนาคารกสิกรไทย จํากัด (มหาชน) ประกอบกิจการธนาคารพาณิชย์ ธุรกิจ หลักทรัพย์และธุรกิจท่ีเก่ียวเนื่องตามที่ได้รับอนุญาตไว้ในพระราชบัญญัติธุรกิจ สถาบันการเงินฯ และพระราชบัญญัติหลักทรัพย์และตลาดหลักทรัพย์ฯ และ ประกาศที่เกี่ยวข้อง โดย ณ วันที่ 31 ธันวาคม 2566 ธนาคารมีเครือข่ายสาขา จํานวน 809 สาขา และเครื่องอิเล็กทรอนิกส์สําหรับทําธุรกรรมด้วยตนเอง 10,903 เครื่อง ครอบคลุมทุกพื้นท่ีและเพียงพอต่อความต้องการของลูกค้า นอกจากน้ี ธนาคารมีเครือข่ายการให้บริการในต่างประเทศรวม 16 แห่ง ใน 8 ประเทศ มีศูนย์กลางการดําเนินงานและให้บริการท่ีสํานักงานใหญ่\"\n",
        "\n",
        "\n",
        "Balance sheet detail\n",
        "\n",
        "| detail                         | 2564           | 2565           | 2566           |\n",
        "|:-------------------------------|:---------------|:---------------|:---------------|\n",
        "| รายได้จากการดำเนินงานรวม (พันบาท) | 163,348,945.00 | 173,257,605.00 | 192,653,621.00 |\n",
        "| รายได้จากในประเทศ (พันบาท)       | 163,348,945.00 | 173,257,605.00 | 192,653,621.00 |\n",
        "| รายได้จากต่างประเทศ (พันบาท)      | 0.00           | 0.00           | 0.00           |\n",
        "| รายได้จากการดำเนินงานรวม (%)     | 100.00         | 100.00         | 100.00         |\n",
        "| รายได้จากในประเทศ (%)           | 100.00         | 100.00         | 100.00         |\n",
        "| รายได้จากต่างประเทศ (%)          | 0.00           | 0.00           | 0.00           |\n",
        "\n",
        "Analyse this data and write a Python code with Plotly visualise data.\n",
        "\n",
        "You must give only the answer do not add prologue, prefix and suffix\n",
        "\"\"\"\n",
        "\n",
        "python_code = get_open_ai_completion(prompt, stream=True)\n",
        "_ = exec(python_code.strip(\"`\").lstrip(\"python\").strip())"
      ]
    },
    {
      "cell_type": "code",
      "execution_count": null,
      "id": "021ec1bd",
      "metadata": {
        "id": "021ec1bd"
      },
      "outputs": [],
      "source": [
        "python_code = get_gemini_completion(prompt)\n",
        "exec(python_code.strip(\"`\").lstrip(\"python\").strip())"
      ]
    },
    {
      "cell_type": "code",
      "execution_count": null,
      "id": "ba42447e",
      "metadata": {
        "scrolled": false,
        "id": "ba42447e"
      },
      "outputs": [],
      "source": [
        "prompt = \"\"\"\n",
        "The stock KBANK is a bussiness mentioned in Thai \"ธนาคารกสิกรไทย จํากัด (มหาชน) ประกอบกิจการธนาคารพาณิชย์ ธุรกิจ หลักทรัพย์และธุรกิจท่ีเก่ียวเนื่องตามที่ได้รับอนุญาตไว้ในพระราชบัญญัติธุรกิจ สถาบันการเงินฯ และพระราชบัญญัติหลักทรัพย์และตลาดหลักทรัพย์ฯ และ ประกาศที่เกี่ยวข้อง โดย ณ วันที่ 31 ธันวาคม 2566 ธนาคารมีเครือข่ายสาขา จํานวน 809 สาขา และเครื่องอิเล็กทรอนิกส์สําหรับทําธุรกรรมด้วยตนเอง 10,903 เครื่อง ครอบคลุมทุกพื้นท่ีและเพียงพอต่อความต้องการของลูกค้า นอกจากน้ี ธนาคารมีเครือข่ายการให้บริการในต่างประเทศรวม 16 แห่ง ใน 8 ประเทศ มีศูนย์กลางการดําเนินงานและให้บริการท่ีสํานักงานใหญ่\"\n",
        "\n",
        "\n",
        "Balance sheet detail\n",
        "\n",
        "\n",
        "| detail                         | 2564           | 2565           | 2566           |\n",
        "|:-------------------------------|:---------------|:---------------|:---------------|\n",
        "| รายได้จากการดำเนินงานรวม (พันบาท) | 163,348,945.00 | 173,257,605.00 | 192,653,621.00 |\n",
        "| รายได้จากในประเทศ (พันบาท)       | 163,348,945.00 | 173,257,605.00 | 192,653,621.00 |\n",
        "| รายได้จากต่างประเทศ (พันบาท)      | 0.00           | 0.00           | 0.00           |\n",
        "| รายได้จากการดำเนินงานรวม (%)     | 100.00         | 100.00         | 100.00         |\n",
        "| รายได้จากในประเทศ (%)           | 100.00         | 100.00         | 100.00         |\n",
        "| รายได้จากต่างประเทศ (%)          | 0.00           | 0.00           | 0.00           |\n",
        "\n",
        "\n",
        "Act as finanical analyst and analyse this data and write a Python code with Plotly to create at least 3 visualisations to ease investors.\n",
        "\n",
        "You must give only the answer do not add prologue, prefix and suffix.\n",
        "\"\"\"\n",
        "\n",
        "python_code = get_open_ai_completion(prompt, stream=True)\n",
        "exec(python_code.strip(\"`\").lstrip(\"python\").strip())"
      ]
    },
    {
      "cell_type": "code",
      "execution_count": null,
      "id": "3f28c66b",
      "metadata": {
        "scrolled": false,
        "id": "3f28c66b"
      },
      "outputs": [],
      "source": [
        "python_code = get_gemini_completion(prompt)\n",
        "exec(python_code.strip(\"`\").lstrip(\"python\").strip())"
      ]
    },
    {
      "cell_type": "markdown",
      "source": [
        "## Chain of Thought"
      ],
      "metadata": {
        "id": "iIcjSFOUIL4p"
      },
      "id": "iIcjSFOUIL4p"
    },
    {
      "cell_type": "code",
      "execution_count": null,
      "id": "ebee83e6",
      "metadata": {
        "scrolled": false,
        "id": "ebee83e6"
      },
      "outputs": [],
      "source": [
        "prompt = \"\"\"\n",
        "The stock KBANK is a bussiness mentioned in Thai \"ธนาคารกสิกรไทย จํากัด (มหาชน) ประกอบกิจการธนาคารพาณิชย์ ธุรกิจ หลักทรัพย์และธุรกิจท่ีเก่ียวเนื่องตามที่ได้รับอนุญาตไว้ในพระราชบัญญัติธุรกิจ สถาบันการเงินฯ และพระราชบัญญัติหลักทรัพย์และตลาดหลักทรัพย์ฯ และ ประกาศที่เกี่ยวข้อง โดย ณ วันที่ 31 ธันวาคม 2566 ธนาคารมีเครือข่ายสาขา จํานวน 809 สาขา และเครื่องอิเล็กทรอนิกส์สําหรับทําธุรกรรมด้วยตนเอง 10,903 เครื่อง ครอบคลุมทุกพื้นท่ีและเพียงพอต่อความต้องการของลูกค้า นอกจากน้ี ธนาคารมีเครือข่ายการให้บริการในต่างประเทศรวม 16 แห่ง ใน 8 ประเทศ มีศูนย์กลางการดําเนินงานและให้บริการท่ีสํานักงานใหญ่\"\n",
        "\n",
        "\n",
        "Balance sheet detail\n",
        "\n",
        "\n",
        "| detail                         | 2564           | 2565           | 2566           |\n",
        "|:-------------------------------|:---------------|:---------------|:---------------|\n",
        "| รายได้จากการดำเนินงานรวม (พันบาท) | 163,348,945.00 | 173,257,605.00 | 192,653,621.00 |\n",
        "| รายได้จากในประเทศ (พันบาท)       | 163,348,945.00 | 173,257,605.00 | 192,653,621.00 |\n",
        "| รายได้จากต่างประเทศ (พันบาท)      | 0.00           | 0.00           | 0.00           |\n",
        "| รายได้จากการดำเนินงานรวม (%)     | 100.00         | 100.00         | 100.00         |\n",
        "| รายได้จากในประเทศ (%)           | 100.00         | 100.00         | 100.00         |\n",
        "| รายได้จากต่างประเทศ (%)          | 0.00           | 0.00           | 0.00           |\n",
        "\n",
        "\n",
        "Act as finanical analyst and analyse this data and write a Python code with the following sections:\n",
        "\n",
        "1. Comment file header and show your thought how this data can support the investors\n",
        "2. Use Plotly to create at least 3 visualisations to ease investors.\n",
        "3. Use print function to conclude your data analytics\n",
        "\n",
        "You must give only the answer do not add prologue, prefix and suffix.\n",
        "\"\"\"\n",
        "\n",
        "python_code = get_open_ai_completion(prompt, stream=True)\n",
        "exec(python_code.strip(\"`\").lstrip(\"python\").strip())"
      ]
    },
    {
      "cell_type": "code",
      "execution_count": null,
      "id": "fb616eef",
      "metadata": {
        "id": "fb616eef"
      },
      "outputs": [],
      "source": [
        "python_code = get_gemini_completion(prompt, stream=True)\n",
        "exec(python_code.strip(\"`\").lstrip(\"python\").strip())"
      ]
    },
    {
      "cell_type": "code",
      "execution_count": null,
      "id": "a954515f",
      "metadata": {
        "scrolled": false,
        "id": "a954515f"
      },
      "outputs": [],
      "source": [
        "prompt = \"\"\"\n",
        "The stock KBANK is a bussiness mentioned in Thai \"ธนาคารกสิกรไทย จํากัด (มหาชน) ประกอบกิจการธนาคารพาณิชย์ ธุรกิจ หลักทรัพย์และธุรกิจท่ีเก่ียวเนื่องตามที่ได้รับอนุญาตไว้ในพระราชบัญญัติธุรกิจ สถาบันการเงินฯ และพระราชบัญญัติหลักทรัพย์และตลาดหลักทรัพย์ฯ และ ประกาศที่เกี่ยวข้อง โดย ณ วันที่ 31 ธันวาคม 2566 ธนาคารมีเครือข่ายสาขา จํานวน 809 สาขา และเครื่องอิเล็กทรอนิกส์สําหรับทําธุรกรรมด้วยตนเอง 10,903 เครื่อง ครอบคลุมทุกพื้นท่ีและเพียงพอต่อความต้องการของลูกค้า นอกจากน้ี ธนาคารมีเครือข่ายการให้บริการในต่างประเทศรวม 16 แห่ง ใน 8 ประเทศ มีศูนย์กลางการดําเนินงานและให้บริการท่ีสํานักงานใหญ่\"\n",
        "\n",
        "\n",
        "Balance sheet detail\n",
        "\n",
        "| detail                         | 2564           | 2565           | 2566           |\n",
        "|:-------------------------------|:---------------|:---------------|:---------------|\n",
        "| รายได้จากการดำเนินงานรวม (พันบาท) | 163,348,945.00 | 173,257,605.00 | 192,653,621.00 |\n",
        "| รายได้จากในประเทศ (พันบาท)       | 163,348,945.00 | 173,257,605.00 | 192,653,621.00 |\n",
        "| รายได้จากต่างประเทศ (พันบาท)      | 0.00           | 0.00           | 0.00           |\n",
        "| รายได้จากการดำเนินงานรวม (%)     | 100.00         | 100.00         | 100.00         |\n",
        "| รายได้จากในประเทศ (%)           | 100.00         | 100.00         | 100.00         |\n",
        "| รายได้จากต่างประเทศ (%)          | 0.00           | 0.00           | 0.00           |\n",
        "\n",
        "\n",
        "Act as finanical analyst and analyse this data and write a Python code with the following sections:\n",
        "\n",
        "1. Comment file header and show your thought how this data can support the investors\n",
        "2. Use Matplotlib to create at least 3 visualisations to ease investors. You should use subplot for presentation and rotate X-axis label with 45 degree.\n",
        "3. Use from IPython.display import HTML, display functions to conclude your data analytics\n",
        "\n",
        "You must give only the answer do not add prologue, prefix and suffix.\n",
        "\"\"\"\n",
        "\n",
        "python_code = get_open_ai_completion(prompt, stream=True)\n",
        "exec(python_code.strip(\"`\").lstrip(\"python\").strip())"
      ]
    },
    {
      "cell_type": "code",
      "execution_count": null,
      "id": "3ec57f2b",
      "metadata": {
        "id": "3ec57f2b"
      },
      "outputs": [],
      "source": [
        "python_code = get_gemini_completion(prompt, stream=True)\n",
        "exec(python_code.strip(\"`\").lstrip(\"python\").strip())"
      ]
    },
    {
      "cell_type": "code",
      "source": [
        "prompt = \"\"\"\n",
        "The stock KBANK is a bussiness mentioned in Thai \"ธนาคารกสิกรไทย จํากัด (มหาชน) ประกอบกิจการธนาคารพาณิชย์ ธุรกิจ หลักทรัพย์และธุรกิจท่ีเก่ียวเนื่องตามที่ได้รับอนุญาตไว้ในพระราชบัญญัติธุรกิจ สถาบันการเงินฯ และพระราชบัญญัติหลักทรัพย์และตลาดหลักทรัพย์ฯ และ ประกาศที่เกี่ยวข้อง โดย ณ วันที่ 31 ธันวาคม 2566 ธนาคารมีเครือข่ายสาขา จํานวน 809 สาขา และเครื่องอิเล็กทรอนิกส์สําหรับทําธุรกรรมด้วยตนเอง 10,903 เครื่อง ครอบคลุมทุกพื้นท่ีและเพียงพอต่อความต้องการของลูกค้า นอกจากน้ี ธนาคารมีเครือข่ายการให้บริการในต่างประเทศรวม 16 แห่ง ใน 8 ประเทศ มีศูนย์กลางการดําเนินงานและให้บริการท่ีสํานักงานใหญ่\"\n",
        "\n",
        "\n",
        "Balance sheet detail:\n",
        "\n",
        "โครงสร้างรายได้ของสายผลิตภัณฑ์หรือกลุ่มธุรกิจ:\n",
        "\n",
        "| detail                         | 2564           | 2565           | 2566           |\n",
        "|:-------------------------------|:---------------|:---------------|:---------------|\n",
        "| รายได้จากการดำเนินงานรวม (พันบาท) | 163,348,945.00 | 173,257,605.00 | 192,653,621.00 |\n",
        "| รายได้ดอกเบี้ยสุทธิ (พันบาท)         | 119,390,486.00 | 132,998,355.00 | 148,443,946.00 |\n",
        "| รายได้ที่มิใช่ดอกเบี้ย (พันบาท)        | 43,958,459.00  | 40,259,250.00  | 44,209,675.00  |\n",
        "| รายได้จากการดำเนินงานรวม (พันบาท) | 163,348,945.00 | 173,257,605.00 | 192,653,621.00 |\n",
        "| รายได้ดอกเบี้ยสุทธิ (พันบาท)         | 119,390,486.00 | 132,998,355.00 | 148,443,946.00 |\n",
        "| รายได้ที่มิใช่ดอกเบี้ย (พันบาท)        | 43,958,459.00  | 40,259,250.00  | 44,209,675.00  |\n",
        "| รายได้จากการดำเนินงานรวม (%)     | 100.00         | 100.00         | 100.00         |\n",
        "| รายได้ดอกเบี้ยสุทธิ (%)             | 73.09          | 76.76          | 77.05          |\n",
        "| รายได้ที่มิใช่ดอกเบี้ย (%)            | 26.91          | 23.24          | 22.95          |\n",
        "\n",
        "โครงสร้างรายได้จากในประเทศและจากต่างประเทศ:\n",
        "\n",
        "| detail                         | 2564           | 2565           | 2566           |\n",
        "|:-------------------------------|:---------------|:---------------|:---------------|\n",
        "| รายได้จากการดำเนินงานรวม (พันบาท) | 163,348,945.00 | 173,257,605.00 | 192,653,621.00 |\n",
        "| รายได้ดอกเบี้ยสุทธิ (พันบาท)         | 119,390,486.00 | 132,998,355.00 | 148,443,946.00 |\n",
        "| รายได้ที่มิใช่ดอกเบี้ย (พันบาท)        | 43,958,459.00  | 40,259,250.00  | 44,209,675.00  |\n",
        "| รายได้จากการดำเนินงานรวม (%)     | 100.00         | 100.00         | 100.00         |\n",
        "| รายได้ดอกเบี้ยสุทธิ (%)             | 73.09          | 76.76          | 77.05          |\n",
        "| รายได้ที่มิใช่ดอกเบี้ย (%)            | 26.91          | 23.24          | 22.95          |\n",
        "\n",
        "รายได้อื่น ตามที่ระบุในงบการเงิน:\n",
        "| detail                                      | 2564   | 2565   | 2566   |\n",
        "|:--------------------------------------------|:-------|:-------|:-------|\n",
        "| รายได้อื่นรวม (พันบาท)                          | 0.00   | 0.00   | 0.00   |\n",
        "| รายได้อื่นจากการดำเนินงาน (พันบาท)               | 0.00   | 0.00   | 0.00   |\n",
        "| รายได้อื่นนอกเหนือจากการดำเนินงาน (พันบาท)        | 0.00   | 0.00   | 0.00   |\n",
        "| ค่าใช้จ่ายการทำวิจัยและพัฒนา (R&D) ในระยะเวลา 3 ปี | N/A    | N/A    | N/A    |\n",
        "| ที่ผ่านมา                                      |        |        |        |\n",
        "\n",
        "\n",
        "Act as finanical analyst and analyse this data and write a Python code with the following sections:\n",
        "\n",
        "1. Comment file header and show your thought how this data can support the investors\n",
        "2. Use Matplotlib to create at least 3 visualisations to ease investors. You should use subplot for presentation and rotate X-axis label with 45 degree.\n",
        "3. Use from IPython.display import HTML, display functions to conclude your data analytics\n",
        "\n",
        "You must give only the answer do not add prologue, prefix and suffix.\n",
        "\"\"\"\n",
        "\n",
        "python_code = get_open_ai_completion(prompt, stream=True)\n",
        "exec(python_code.strip(\"`\").lstrip(\"python\").strip())"
      ],
      "metadata": {
        "id": "ZPvrZ1nOLDQV"
      },
      "id": "ZPvrZ1nOLDQV",
      "execution_count": null,
      "outputs": []
    },
    {
      "cell_type": "code",
      "source": [],
      "metadata": {
        "id": "EE9uXDQcPAz4"
      },
      "id": "EE9uXDQcPAz4",
      "execution_count": null,
      "outputs": []
    },
    {
      "cell_type": "code",
      "source": [
        "python_code = get_gemini_completion(prompt, stream=True)\n",
        "exec(python_code.strip(\"`\").lstrip(\"python\").strip())"
      ],
      "metadata": {
        "id": "2QhHbt_tOUkJ"
      },
      "id": "2QhHbt_tOUkJ",
      "execution_count": null,
      "outputs": []
    },
    {
      "cell_type": "code",
      "source": [
        "prompt = \"\"\"\n",
        "The stock KBANK is a bussiness mentioned in Thai \"ธนาคารกสิกรไทย จํากัด (มหาชน) ประกอบกิจการธนาคารพาณิชย์ ธุรกิจ หลักทรัพย์และธุรกิจท่ีเก่ียวเนื่องตามที่ได้รับอนุญาตไว้ในพระราชบัญญัติธุรกิจ สถาบันการเงินฯ และพระราชบัญญัติหลักทรัพย์และตลาดหลักทรัพย์ฯ และ ประกาศที่เกี่ยวข้อง โดย ณ วันที่ 31 ธันวาคม 2566 ธนาคารมีเครือข่ายสาขา จํานวน 809 สาขา และเครื่องอิเล็กทรอนิกส์สําหรับทําธุรกรรมด้วยตนเอง 10,903 เครื่อง ครอบคลุมทุกพื้นท่ีและเพียงพอต่อความต้องการของลูกค้า นอกจากน้ี ธนาคารมีเครือข่ายการให้บริการในต่างประเทศรวม 16 แห่ง ใน 8 ประเทศ มีศูนย์กลางการดําเนินงานและให้บริการท่ีสํานักงานใหญ่\"\n",
        "\n",
        "\n",
        "Balance sheet detail:\n",
        "\n",
        "โครงสร้างรายได้ของสายผลิตภัณฑ์หรือกลุ่มธุรกิจ:\n",
        "\n",
        "| detail                         | 2564           | 2565           | 2566           |\n",
        "|:-------------------------------|:---------------|:---------------|:---------------|\n",
        "| รายได้จากการดำเนินงานรวม (พันบาท) | 163,348,945.00 | 173,257,605.00 | 192,653,621.00 |\n",
        "| รายได้ดอกเบี้ยสุทธิ (พันบาท)         | 119,390,486.00 | 132,998,355.00 | 148,443,946.00 |\n",
        "| รายได้ที่มิใช่ดอกเบี้ย (พันบาท)        | 43,958,459.00  | 40,259,250.00  | 44,209,675.00  |\n",
        "| รายได้จากการดำเนินงานรวม (พันบาท) | 163,348,945.00 | 173,257,605.00 | 192,653,621.00 |\n",
        "| รายได้ดอกเบี้ยสุทธิ (พันบาท)         | 119,390,486.00 | 132,998,355.00 | 148,443,946.00 |\n",
        "| รายได้ที่มิใช่ดอกเบี้ย (พันบาท)        | 43,958,459.00  | 40,259,250.00  | 44,209,675.00  |\n",
        "| รายได้จากการดำเนินงานรวม (%)     | 100.00         | 100.00         | 100.00         |\n",
        "| รายได้ดอกเบี้ยสุทธิ (%)             | 73.09          | 76.76          | 77.05          |\n",
        "| รายได้ที่มิใช่ดอกเบี้ย (%)            | 26.91          | 23.24          | 22.95          |\n",
        "\n",
        "โครงสร้างรายได้จากในประเทศและจากต่างประเทศ:\n",
        "\n",
        "| detail                         | 2564           | 2565           | 2566           |\n",
        "|:-------------------------------|:---------------|:---------------|:---------------|\n",
        "| รายได้จากการดำเนินงานรวม (พันบาท) | 163,348,945.00 | 173,257,605.00 | 192,653,621.00 |\n",
        "| รายได้ดอกเบี้ยสุทธิ (พันบาท)         | 119,390,486.00 | 132,998,355.00 | 148,443,946.00 |\n",
        "| รายได้ที่มิใช่ดอกเบี้ย (พันบาท)        | 43,958,459.00  | 40,259,250.00  | 44,209,675.00  |\n",
        "| รายได้จากการดำเนินงานรวม (%)     | 100.00         | 100.00         | 100.00         |\n",
        "| รายได้ดอกเบี้ยสุทธิ (%)             | 73.09          | 76.76          | 77.05          |\n",
        "| รายได้ที่มิใช่ดอกเบี้ย (%)            | 26.91          | 23.24          | 22.95          |\n",
        "\n",
        "รายได้อื่น ตามที่ระบุในงบการเงิน:\n",
        "| detail                                      | 2564   | 2565   | 2566   |\n",
        "|:--------------------------------------------|:-------|:-------|:-------|\n",
        "| รายได้อื่นรวม (พันบาท)                          | 0.00   | 0.00   | 0.00   |\n",
        "| รายได้อื่นจากการดำเนินงาน (พันบาท)               | 0.00   | 0.00   | 0.00   |\n",
        "| รายได้อื่นนอกเหนือจากการดำเนินงาน (พันบาท)        | 0.00   | 0.00   | 0.00   |\n",
        "| ค่าใช้จ่ายการทำวิจัยและพัฒนา (R&D) ในระยะเวลา 3 ปี | N/A    | N/A    | N/A    |\n",
        "| ที่ผ่านมา                                      |        |        |        |\n",
        "\n",
        "\n",
        "What if Bank of Thailand reduce interate rate, how does it affect the company, answer in bullet points?\n",
        "\"\"\"\n",
        "\n",
        "answer = get_open_ai_completion(prompt, stream=True)\n",
        "Markdown(answer)"
      ],
      "metadata": {
        "id": "Ic9YqoWAQ3GB"
      },
      "id": "Ic9YqoWAQ3GB",
      "execution_count": null,
      "outputs": []
    },
    {
      "cell_type": "code",
      "source": [
        "answer = get_gemini_completion(prompt, stream=True)\n",
        "Markdown(answer)"
      ],
      "metadata": {
        "id": "18_V0Cd0RzkZ"
      },
      "id": "18_V0Cd0RzkZ",
      "execution_count": null,
      "outputs": []
    },
    {
      "cell_type": "code",
      "source": [
        "prompt = \"\"\"\n",
        "As as financial analyst, show me example of questions in bullet points to evaluate the balance sheet the company:\n",
        "\n",
        "let's see the available data is limited and you can only:\n",
        "- โครงสร้างรายได้ของสายผลิตภัณฑ์หรือกลุ่มธุรกิจ:\n",
        "- โครงสร้างรายได้จากในประเทศและจากต่างประเทศ:\n",
        "- รายได้อื่น ตามที่ระบุในงบการเงิน:\n",
        "\n",
        "\n",
        "KBANK: \"ธนาคารกสิกรไทย จํากัด (มหาชน) ประกอบกิจการธนาคารพาณิชย์ ธุรกิจ หลักทรัพย์และธุรกิจท่ีเก่ียวเนื่องตามที่ได้รับอนุญาตไว้ในพระราชบัญญัติธุรกิจ สถาบันการเงินฯ และพระราชบัญญัติหลักทรัพย์และตลาดหลักทรัพย์ฯ และ ประกาศที่เกี่ยวข้อง โดย ณ วันที่ 31 ธันวาคม 2566 ธนาคารมีเครือข่ายสาขา จํานวน 809 สาขา และเครื่องอิเล็กทรอนิกส์สําหรับทําธุรกรรมด้วยตนเอง 10,903 เครื่อง ครอบคลุมทุกพื้นท่ีและเพียงพอต่อความต้องการของลูกค้า นอกจากน้ี ธนาคารมีเครือข่ายการให้บริการในต่างประเทศรวม 16 แห่ง ใน 8 ประเทศ มีศูนย์กลางการดําเนินงานและให้บริการท่ีสํานักงานใหญ่\"\n",
        "\"\"\"\n",
        "question = get_gemini_completion(prompt, stream=True)\n",
        "Markdown(question)"
      ],
      "metadata": {
        "id": "B9gvACmzR-ug"
      },
      "id": "B9gvACmzR-ug",
      "execution_count": null,
      "outputs": []
    },
    {
      "cell_type": "code",
      "source": [
        "prompt = f\"\"\"\n",
        "The stock KBANK is a bussiness mentioned in Thai \"ธนาคารกสิกรไทย จํากัด (มหาชน) ประกอบกิจการธนาคารพาณิชย์ ธุรกิจ หลักทรัพย์และธุรกิจท่ีเก่ียวเนื่องตามที่ได้รับอนุญาตไว้ในพระราชบัญญัติธุรกิจ สถาบันการเงินฯ และพระราชบัญญัติหลักทรัพย์และตลาดหลักทรัพย์ฯ และ ประกาศที่เกี่ยวข้อง โดย ณ วันที่ 31 ธันวาคม 2566 ธนาคารมีเครือข่ายสาขา จํานวน 809 สาขา และเครื่องอิเล็กทรอนิกส์สําหรับทําธุรกรรมด้วยตนเอง 10,903 เครื่อง ครอบคลุมทุกพื้นท่ีและเพียงพอต่อความต้องการของลูกค้า นอกจากน้ี ธนาคารมีเครือข่ายการให้บริการในต่างประเทศรวม 16 แห่ง ใน 8 ประเทศ มีศูนย์กลางการดําเนินงานและให้บริการท่ีสํานักงานใหญ่\"\n",
        "\n",
        "\n",
        "Balance sheet detail:\n",
        "\n",
        "โครงสร้างรายได้ของสายผลิตภัณฑ์หรือกลุ่มธุรกิจ:\n",
        "\n",
        "| detail                         | 2564           | 2565           | 2566           |\n",
        "|:-------------------------------|:---------------|:---------------|:---------------|\n",
        "| รายได้จากการดำเนินงานรวม (พันบาท) | 163,348,945.00 | 173,257,605.00 | 192,653,621.00 |\n",
        "| รายได้ดอกเบี้ยสุทธิ (พันบาท)         | 119,390,486.00 | 132,998,355.00 | 148,443,946.00 |\n",
        "| รายได้ที่มิใช่ดอกเบี้ย (พันบาท)        | 43,958,459.00  | 40,259,250.00  | 44,209,675.00  |\n",
        "| รายได้จากการดำเนินงานรวม (พันบาท) | 163,348,945.00 | 173,257,605.00 | 192,653,621.00 |\n",
        "| รายได้ดอกเบี้ยสุทธิ (พันบาท)         | 119,390,486.00 | 132,998,355.00 | 148,443,946.00 |\n",
        "| รายได้ที่มิใช่ดอกเบี้ย (พันบาท)        | 43,958,459.00  | 40,259,250.00  | 44,209,675.00  |\n",
        "| รายได้จากการดำเนินงานรวม (%)     | 100.00         | 100.00         | 100.00         |\n",
        "| รายได้ดอกเบี้ยสุทธิ (%)             | 73.09          | 76.76          | 77.05          |\n",
        "| รายได้ที่มิใช่ดอกเบี้ย (%)            | 26.91          | 23.24          | 22.95          |\n",
        "\n",
        "โครงสร้างรายได้จากในประเทศและจากต่างประเทศ:\n",
        "\n",
        "| detail                         | 2564           | 2565           | 2566           |\n",
        "|:-------------------------------|:---------------|:---------------|:---------------|\n",
        "| รายได้จากการดำเนินงานรวม (พันบาท) | 163,348,945.00 | 173,257,605.00 | 192,653,621.00 |\n",
        "| รายได้ดอกเบี้ยสุทธิ (พันบาท)         | 119,390,486.00 | 132,998,355.00 | 148,443,946.00 |\n",
        "| รายได้ที่มิใช่ดอกเบี้ย (พันบาท)        | 43,958,459.00  | 40,259,250.00  | 44,209,675.00  |\n",
        "| รายได้จากการดำเนินงานรวม (%)     | 100.00         | 100.00         | 100.00         |\n",
        "| รายได้ดอกเบี้ยสุทธิ (%)             | 73.09          | 76.76          | 77.05          |\n",
        "| รายได้ที่มิใช่ดอกเบี้ย (%)            | 26.91          | 23.24          | 22.95          |\n",
        "\n",
        "รายได้อื่น ตามที่ระบุในงบการเงิน:\n",
        "| detail                                      | 2564   | 2565   | 2566   |\n",
        "|:--------------------------------------------|:-------|:-------|:-------|\n",
        "| รายได้อื่นรวม (พันบาท)                          | 0.00   | 0.00   | 0.00   |\n",
        "| รายได้อื่นจากการดำเนินงาน (พันบาท)               | 0.00   | 0.00   | 0.00   |\n",
        "| รายได้อื่นนอกเหนือจากการดำเนินงาน (พันบาท)        | 0.00   | 0.00   | 0.00   |\n",
        "| ค่าใช้จ่ายการทำวิจัยและพัฒนา (R&D) ในระยะเวลา 3 ปี | N/A    | N/A    | N/A    |\n",
        "| ที่ผ่านมา                                      |        |        |        |\n",
        "\n",
        "\n",
        "Act as the best financial analyst and try your best answer the following question for the information and you are allowed to infer the answer from your experiece\n",
        "{question}\n",
        "\"\"\"\n",
        "\n",
        "answer = get_open_ai_completion(prompt, stream=True)\n",
        "Markdown(answer)"
      ],
      "metadata": {
        "id": "CCVGyXGuS299"
      },
      "id": "CCVGyXGuS299",
      "execution_count": null,
      "outputs": []
    }
  ],
  "metadata": {
    "kernelspec": {
      "display_name": "Python 3 (ipykernel)",
      "language": "python",
      "name": "python3"
    },
    "language_info": {
      "codemirror_mode": {
        "name": "ipython",
        "version": 3
      },
      "file_extension": ".py",
      "mimetype": "text/x-python",
      "name": "python",
      "nbconvert_exporter": "python",
      "pygments_lexer": "ipython3",
      "version": "3.11.5"
    },
    "colab": {
      "provenance": []
    }
  },
  "nbformat": 4,
  "nbformat_minor": 5
}