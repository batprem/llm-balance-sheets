{
 "cells": [
  {
   "cell_type": "code",
   "execution_count": 5,
   "id": "f85f2661",
   "metadata": {},
   "outputs": [],
   "source": [
    "import os\n",
    "from dotenv import load_dotenv\n",
    "assert load_dotenv()\n",
    "from src.utils import get_completion\n",
    "from src.constants import TYPHOON_API_KEY\n",
    "\n",
    "\n",
    "\n",
    "MODEL = \"typhoon-v1.5x-70b-instruct\""
   ]
  },
  {
   "cell_type": "code",
   "execution_count": 6,
   "id": "4ec3d376",
   "metadata": {},
   "outputs": [
    {
     "name": "stdout",
     "output_type": "stream",
     "text": [
      "สวัสดีค่ะ! ยินดีต้อนรับเข้าสู่การแชทกับฉัน ถ้ามีคำถามหรือต้องการความช่วยเหลือใด ๆ กรุณาแจ้งให้ทราบค่ะ.\n"
     ]
    }
   ],
   "source": [
    "from openai import OpenAI\n",
    "\n",
    "\n",
    "client = OpenAI(\n",
    "   api_key=TYPHOON_API_KEY,\n",
    "   base_url='https://api.opentyphoon.ai/v1'\n",
    ")\n",
    "\n",
    "chat_completion = client.chat.completions.create(\n",
    "    model=\"typhoon-v1.5x-70b-instruct\",\n",
    "    messages=[\n",
    "        {\"role\": \"user\", \"content\": \"สวัสดี\"}\n",
    "    ]\n",
    ")\n",
    "print(chat_completion.choices[0].message.content)"
   ]
  },
  {
   "cell_type": "code",
   "execution_count": 7,
   "id": "755cf902",
   "metadata": {},
   "outputs": [
    {
     "name": "stdout",
     "output_type": "stream",
     "text": [
      "Prompt engineering is a relatively new field that focuses on designing and optimizing natural language inputs, or prompts, to elicit specific responses from artificial intelligence (AI) systems, particularly large language models. The goal is to improve the quality, relevance, and usefulness of the AI's output by crafting well-defined, unambiguous, and informative prompts.\n",
      "\n",
      "Prompt engineering involves understanding the capabilities and limitations of AI models, as well as the nuances of human language. It requires expertise in linguistics, cognitive science, and AI development, as well as creativity and problem-solving skills.\n",
      "\n",
      "Some key aspects of prompt engineering include:\n",
      "\n",
      "1. Clarity: Designing prompts that are clear, concise, and easy to understand.\n",
      "2. Specificity: Crafting prompts that elicit specific, targeted responses from the AI model.\n",
      "3. Ambiguity reduction: Minimizing potential sources of confusion or misinterpretation in the prompt.\n",
      "4. Contextualization: Providing relevant context or background information to help the AI model generate more accurate and appropriate responses.\n",
      "5. Adaptability: Designing prompts that can be easily modified or extended for different use cases or applications.\n",
      "6. Evaluation: Continuously testing and refining prompts based on the AI model's performance and feedback.\n",
      "\n",
      "Effective prompt engineering can significantly impact the performance of AI systems in various domains, such as natural language processing, chatbots, question-answering, text generation, and more. By optimizing prompts, developers can enhance the accuracy, efficiency, and overall user experience of AI-driven applications.None"
     ]
    },
    {
     "data": {
      "text/markdown": [
       "Prompt engineering is a relatively new field that focuses on designing and optimizing natural language inputs, or prompts, to elicit specific responses from artificial intelligence (AI) systems, particularly large language models. The goal is to improve the quality, relevance, and usefulness of the AI's output by crafting well-defined, unambiguous, and informative prompts.\n",
       "\n",
       "Prompt engineering involves understanding the capabilities and limitations of AI models, as well as the nuances of human language. It requires expertise in linguistics, cognitive science, and AI development, as well as creativity and problem-solving skills.\n",
       "\n",
       "Some key aspects of prompt engineering include:\n",
       "\n",
       "1. Clarity: Designing prompts that are clear, concise, and easy to understand.\n",
       "2. Specificity: Crafting prompts that elicit specific, targeted responses from the AI model.\n",
       "3. Ambiguity reduction: Minimizing potential sources of confusion or misinterpretation in the prompt.\n",
       "4. Contextualization: Providing relevant context or background information to help the AI model generate more accurate and appropriate responses.\n",
       "5. Adaptability: Designing prompts that can be easily modified or extended for different use cases or applications.\n",
       "6. Evaluation: Continuously testing and refining prompts based on the AI model's performance and feedback.\n",
       "\n",
       "Effective prompt engineering can significantly impact the performance of AI systems in various domains, such as natural language processing, chatbots, question-answering, text generation, and more. By optimizing prompts, developers can enhance the accuracy, efficiency, and overall user experience of AI-driven applications."
      ],
      "text/plain": [
       "<IPython.core.display.Markdown object>"
      ]
     },
     "execution_count": 7,
     "metadata": {},
     "output_type": "execute_result"
    }
   ],
   "source": [
    "from typing_extensions import TypedDict\n",
    "from IPython.display import Markdown\n",
    "\n",
    "\n",
    "class ChatTurn(TypedDict):\n",
    "    role: str\n",
    "    content: str\n",
    "\n",
    "def get_completion(\n",
    "    prompt: str,\n",
    "    model: str = MODEL,\n",
    "    stream: bool = False,\n",
    "    initial_message: list[ChatTurn]| None = None,\n",
    ") -> str:\n",
    "    if initial_message is None:\n",
    "        initial_message = []\n",
    "    messages = [{\"role\": \"user\", \"content\": prompt}]\n",
    "    response = client.chat.completions.create(\n",
    "        model=model, messages=messages, temperature=0, stream=stream\n",
    "    )\n",
    "    if not stream:\n",
    "        return response.choices[0].message.content\n",
    "    else:\n",
    "        result = \"\"\n",
    "        for chunk in response:\n",
    "            content = chunk.choices[0].delta.content\n",
    "            print(content, end=\"\")\n",
    "            if isinstance(content, str):\n",
    "                result += content\n",
    "        return result\n",
    "\n",
    "\n",
    "prompt = \"Explain the concept of prompt engineering.\"\n",
    "Markdown(get_completion(prompt, stream=True))"
   ]
  },
  {
   "cell_type": "markdown",
   "id": "f2a52c3b",
   "metadata": {},
   "source": [
    "# Chain of Thought prompt"
   ]
  },
  {
   "cell_type": "code",
   "execution_count": 19,
   "id": "5ed0f14f",
   "metadata": {},
   "outputs": [
    {
     "name": "stdout",
     "output_type": "stream",
     "text": [
      "Step 1: Understand the question\n",
      "The question is asking for the average speed of a train that travels 120 km in 2 hours. Average speed is the total distance traveled divided by the total time taken.\n",
      "\n",
      "Step 2: Identify the key information\n",
      "The key information provided is:\n",
      "- Distance traveled = 120 km\n",
      "- Time taken = 2 hours\n",
      "\n",
      "Step 3: Think about how to solve this problem\n",
      "To find the average speed, we need to divide the total distance traveled by the total time taken. In this case, we can use the formula:\n",
      "\n",
      "Average Speed = Total Distance / Total Time\n",
      "\n",
      "Step 4: Calculate the answer\n",
      "Now, let's plug in the given values into the formula:\n",
      "\n",
      "Average Speed = 120 km / 2 hours\n",
      "Average Speed = 60 km/h\n",
      "\n",
      "So, the train's average speed is 60 km/h.\n"
     ]
    }
   ],
   "source": [
    "def cot_prompt(question):\n",
    "    return f\"\"\"\n",
    "    Question: {question}\n",
    "    Let's approach this step-by-step:\n",
    "    1) First, let's understand what the question is asking.\n",
    "    2) Next, let's identify the key information provided.\n",
    "    3) Then, let's think about how to solve this problem.\n",
    "    4) Finally, let's calculate the answer.\n",
    "    \n",
    "    Now, let's go through each step:\n",
    "    \"\"\"\n",
    "\n",
    "question = \"If a train travels 120 km in 2 hours, what is its average speed in km/h?\"\n",
    "cot_response = get_completion(cot_prompt(question))\n",
    "print(cot_response)"
   ]
  },
  {
   "cell_type": "code",
   "execution_count": 29,
   "id": "7fc89405",
   "metadata": {},
   "outputs": [
    {
     "name": "stdout",
     "output_type": "stream",
     "text": [
      "[]\n",
      "75.098848\n",
      "0.476036\n"
     ]
    }
   ],
   "source": [
    "import requests\n",
    "\n",
    "cookies = {\n",
    "    '_ga': 'GA1.1.689289717.1727081725',\n",
    "    'TS01a5e5b3': '012c1f76db42d17635f320be8015febd0e29ce836bfef5b1a2e053ba0a6b992617db1ab5d647ece05add713d24b3194a831c898786',\n",
    "    '_ga_3NH0QL72D6': 'GS1.1.1729354625.3.0.1729354625.60.0.0',\n",
    "    'TS3e96895c027': '08f2067569ab20004c77ebed64a0ddca306957ba83844862ee8588d6ebd21e39623d0e08840f024e08594bad631130005769222e0cf4e897d24f1184fd1c13167c04a75b166f3dad8cda5b8c456d2d959438c16547f1bc5bc6e8aec81327ddee',\n",
    "}\n",
    "\n",
    "headers = {\n",
    "    'Accept': 'text/html,application/xhtml+xml,application/xml;q=0.9,image/avif,image/webp,image/apng,*/*;q=0.8,application/signed-exchange;v=b3;q=0.7',\n",
    "    'Accept-Language': 'en-TH,en;q=0.9,th-TH;q=0.8,th;q=0.7,en-GB;q=0.6,en-US;q=0.5',\n",
    "    'Cache-Control': 'max-age=0',\n",
    "    'Connection': 'keep-alive',\n",
    "    # 'Cookie': '_ga=GA1.1.689289717.1727081725; TS01a5e5b3=012c1f76db42d17635f320be8015febd0e29ce836bfef5b1a2e053ba0a6b992617db1ab5d647ece05add713d24b3194a831c898786; _ga_3NH0QL72D6=GS1.1.1729354625.3.0.1729354625.60.0.0; TS3e96895c027=08f2067569ab20004c77ebed64a0ddca306957ba83844862ee8588d6ebd21e39623d0e08840f024e08594bad631130005769222e0cf4e897d24f1184fd1c13167c04a75b166f3dad8cda5b8c456d2d959438c16547f1bc5bc6e8aec81327ddee',\n",
    "    'Sec-Fetch-Dest': 'document',\n",
    "    'Sec-Fetch-Mode': 'navigate',\n",
    "    'Sec-Fetch-Site': 'same-origin',\n",
    "    'Sec-Fetch-User': '?1',\n",
    "    'Upgrade-Insecure-Requests': '1',\n",
    "    'User-Agent': 'Mozilla/5.0 (Macintosh; Intel Mac OS X 10_15_7) AppleWebKit/537.36 (KHTML, like Gecko) Chrome/129.0.0.0 Safari/537.36',\n",
    "    'sec-ch-ua': '\"Google Chrome\";v=\"129\", \"Not=A?Brand\";v=\"8\", \"Chromium\";v=\"129\"',\n",
    "    'sec-ch-ua-mobile': '?0',\n",
    "    'sec-ch-ua-platform': '\"macOS\"',\n",
    "}\n",
    "\n",
    "params = {\n",
    "    'searchSymbol': 'KBANK',\n",
    "}\n",
    "\n",
    "session = requests.Session()\n",
    "response = session.get(\n",
    "    f\"https://market.sec.or.th/\",\n",
    "    headers={\"User-Agent\": \"Mozilla/5.0 (X11; CrOS x86_64 12871.102.0) AppleWebKit/537.36 (KHTML, like Gecko) Chrome/81.0.4044.141 Safari/537.36\"}\n",
    ")\n",
    "print(response.history)\n",
    "print(response.elapsed.total_seconds())\n",
    "response = session.get(\n",
    "    'https://market.sec.or.th/public/idisc/th/Viewmore/fs-r561',\n",
    "    headers={\"User-Agent\": \"Mozilla/5.0 (X11; CrOS x86_64 12871.102.0) AppleWebKit/537.36 (KHTML, like Gecko) Chrome/81.0.4044.141 Safari/537.36\"},\n",
    "    params=params,\n",
    "    \n",
    ")\n",
    "print(response.elapsed.total_seconds())"
   ]
  }
 ],
 "metadata": {
  "kernelspec": {
   "display_name": "Python 3 (ipykernel)",
   "language": "python",
   "name": "python3"
  },
  "language_info": {
   "codemirror_mode": {
    "name": "ipython",
    "version": 3
   },
   "file_extension": ".py",
   "mimetype": "text/x-python",
   "name": "python",
   "nbconvert_exporter": "python",
   "pygments_lexer": "ipython3",
   "version": "3.11.5"
  }
 },
 "nbformat": 4,
 "nbformat_minor": 5
}
