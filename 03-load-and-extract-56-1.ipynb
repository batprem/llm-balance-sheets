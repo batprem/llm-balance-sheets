{
 "cells": [
  {
   "cell_type": "markdown",
   "id": "3c7c5522",
   "metadata": {},
   "source": [
    "# Set up environments"
   ]
  },
  {
   "cell_type": "code",
   "execution_count": 1,
   "id": "929e581b",
   "metadata": {},
   "outputs": [],
   "source": [
    "!pip install -q beautifulsoup4==4.12.2 PyMuPDFb==1.24.10 tqdm==4.66.5 duckdb==0.10.0 tabulate==0.9.0"
   ]
  },
  {
   "cell_type": "code",
   "execution_count": 2,
   "id": "380b1dbc",
   "metadata": {},
   "outputs": [],
   "source": [
    "import os\n",
    "\n",
    "if not \".git\" in os.listdir():\n",
    "    !git clone https://github.com/batprem/pyo3-experiment\n",
    "    os.chdir(\"pyo3-experiment\")"
   ]
  },
  {
   "cell_type": "markdown",
   "id": "905ec54b",
   "metadata": {},
   "source": [
    "# Download 56-1 file"
   ]
  },
  {
   "cell_type": "code",
   "execution_count": 3,
   "id": "0c037f69",
   "metadata": {},
   "outputs": [
    {
     "name": "stdout",
     "output_type": "stream",
     "text": [
      "Searching the balance sheet file\n",
      "Found at https://market.sec.or.th/public/idisc/Download?FILEID=dat/f56/0016ONE120320242034060731T.zip\n",
      "Downloading...\n"
     ]
    },
    {
     "name": "stderr",
     "output_type": "stream",
     "text": [
      "11.4MB [00:01, 6.46MB/s]                                                                                                                                                                                   "
     ]
    },
    {
     "name": "stdout",
     "output_type": "stream",
     "text": [
      "Done\n"
     ]
    },
    {
     "name": "stderr",
     "output_type": "stream",
     "text": [
      "\n"
     ]
    }
   ],
   "source": [
    "import requests\n",
    "from bs4 import BeautifulSoup\n",
    "import os\n",
    "import zipfile\n",
    "from tqdm import tqdm\n",
    "\n",
    "\n",
    "ROOT = \"downloaded-56-1\"\n",
    "# SYMBOL = \"PTT\"  # Change this symbol\n",
    "SYMBOL = \"KBANK\"  # Change this symbol\n",
    "FILE_PATH = f\"{ROOT}/{SYMBOL}\"\n",
    "PATH_TO_TARGET = f\"{FILE_PATH}/{SYMBOL}.zip\"\n",
    "session = requests.Session()\n",
    "\n",
    "\n",
    "\n",
    "os.makedirs(FILE_PATH, exist_ok=True)\n",
    "print(\"Searching the balance sheet file\")\n",
    "\n",
    "response = session.get(\n",
    "    f\"https://market.sec.or.th/public/idisc/th/Viewmore/fs-r561?searchSymbol={SYMBOL}\",\n",
    ")\n",
    "soup = BeautifulSoup(response.text)\n",
    "url = soup.find_all(\"tr\")[1].find_all(\"td\")[-1].find(\"a\")[\"href\"]\n",
    "\n",
    "print(f\"Found at {url}\")\n",
    "# Sizes in bytes.\n",
    "total_size = int(response.headers.get(\"content-length\", 0))\n",
    "block_size = 1024\n",
    "response = session.get(url, stream=True)\n",
    "\n",
    "print(\"Downloading...\")\n",
    "with tqdm(total=total_size, unit=\"B\", unit_scale=True) as progress_bar:\n",
    "    with open(PATH_TO_TARGET, \"wb\") as file:\n",
    "        for data in response.iter_content(block_size):\n",
    "            progress_bar.update(len(data))\n",
    "            file.write(data)\n",
    "\n",
    "    \n",
    "# with open(PATH_TO_TARGET, \"wb\") as f:\n",
    "#     f.write(requests.get(url).content)\n",
    "\n",
    "with zipfile.ZipFile(PATH_TO_TARGET, 'r') as zip_ref:\n",
    "    zip_ref.extractall(FILE_PATH)\n",
    "print(\"Done\")"
   ]
  },
  {
   "cell_type": "markdown",
   "id": "67e617a3",
   "metadata": {},
   "source": [
    "# Extract table of contents"
   ]
  },
  {
   "cell_type": "code",
   "execution_count": 4,
   "id": "744bb37b",
   "metadata": {},
   "outputs": [
    {
     "data": {
      "text/html": [
       "<div>\n",
       "<style scoped>\n",
       "    .dataframe tbody tr th:only-of-type {\n",
       "        vertical-align: middle;\n",
       "    }\n",
       "\n",
       "    .dataframe tbody tr th {\n",
       "        vertical-align: top;\n",
       "    }\n",
       "\n",
       "    .dataframe thead th {\n",
       "        text-align: right;\n",
       "    }\n",
       "</style>\n",
       "<table border=\"1\" class=\"dataframe\">\n",
       "  <thead>\n",
       "    <tr style=\"text-align: right;\">\n",
       "      <th></th>\n",
       "      <th>hierachy</th>\n",
       "      <th>topic</th>\n",
       "      <th>page</th>\n",
       "    </tr>\n",
       "  </thead>\n",
       "  <tbody>\n",
       "    <tr>\n",
       "      <th>0</th>\n",
       "      <td>1</td>\n",
       "      <td>Cover</td>\n",
       "      <td>1</td>\n",
       "    </tr>\n",
       "    <tr>\n",
       "      <th>1</th>\n",
       "      <td>1</td>\n",
       "      <td>TableContent</td>\n",
       "      <td>2</td>\n",
       "    </tr>\n",
       "    <tr>\n",
       "      <th>2</th>\n",
       "      <td>1</td>\n",
       "      <td>StructureAndOperation</td>\n",
       "      <td>4</td>\n",
       "    </tr>\n",
       "    <tr>\n",
       "      <th>3</th>\n",
       "      <td>1</td>\n",
       "      <td>RiskManagement</td>\n",
       "      <td>8</td>\n",
       "    </tr>\n",
       "    <tr>\n",
       "      <th>4</th>\n",
       "      <td>1</td>\n",
       "      <td>ESG</td>\n",
       "      <td>12</td>\n",
       "    </tr>\n",
       "    <tr>\n",
       "      <th>5</th>\n",
       "      <td>1</td>\n",
       "      <td>CorporateGovernancePolicy</td>\n",
       "      <td>16</td>\n",
       "    </tr>\n",
       "    <tr>\n",
       "      <th>6</th>\n",
       "      <td>1</td>\n",
       "      <td>CorporateGovernanceStructure</td>\n",
       "      <td>18</td>\n",
       "    </tr>\n",
       "    <tr>\n",
       "      <th>7</th>\n",
       "      <td>1</td>\n",
       "      <td>ResultOfCorporateGovernance</td>\n",
       "      <td>31</td>\n",
       "    </tr>\n",
       "  </tbody>\n",
       "</table>\n",
       "</div>"
      ],
      "text/plain": [
       "   hierachy                         topic  page\n",
       "0         1                         Cover     1\n",
       "1         1                  TableContent     2\n",
       "2         1         StructureAndOperation     4\n",
       "3         1                RiskManagement     8\n",
       "4         1                           ESG    12\n",
       "5         1     CorporateGovernancePolicy    16\n",
       "6         1  CorporateGovernanceStructure    18\n",
       "7         1   ResultOfCorporateGovernance    31"
      ]
     },
     "execution_count": 4,
     "metadata": {},
     "output_type": "execute_result"
    }
   ],
   "source": [
    "import fitz\n",
    "import pandas as pd\n",
    "\n",
    "def to_html(filepath: str):\n",
    "    doc = fitz.open(filepath)\n",
    "    for i, page in enumerate(doc):\n",
    "        text = page.get_text(\"html\")\n",
    "        with open(f\"pymupdf-page-{i}.html\", \"w\") as fp:\n",
    "            fp.write(text)\n",
    "    doc.close()\n",
    "    \n",
    "doc = fitz.open(f'{FILE_PATH}/STRUCTURE{SYMBOL}T.PDF')\n",
    "toc = pd.DataFrame(doc.get_toc())\n",
    "toc.columns = [\"hierachy\", \"topic\", \"page\"]\n",
    "toc = toc[toc[\"topic\"] != \"Bookmark\"].reset_index(drop=True)\n",
    "toc"
   ]
  },
  {
   "cell_type": "code",
   "execution_count": 28,
   "id": "60acc086",
   "metadata": {},
   "outputs": [
    {
     "name": "stdout",
     "output_type": "stream",
     "text": [
      "ธนาคารกสิกรไทย จำกัด (มหาชน) ประกอบกิจการธนาคารพาณิชย์ ธุรกิจ\n",
      "หลักทรัพย์และธุรกิจที่เกี่ยวเนื่องตามที่ได้รับอนุญาตไว้ในพระราชบัญญัติธุรกิจ\n",
      "สถาบันการเงินฯ และพระราชบัญญัติหลักทรัพย์และตลาดหลักทรัพย์ฯ และ\n",
      "ประกาศที่เกี่ยวข้อง โดย ณ วันที่ 31 ธันวาคม 2566 ธนาคารมีเครือข่ายสาขา\n",
      "จำนวน 809 สาขา และเครื่องอิเล็กทรอนิกส์สำหรับทำธุรกรรมด้วยตนเอง\n",
      "10,903 เครื่อง ครอบคลุมทุกพื้นที่และเพียงพอต่อความต้องการของลูกค้า\n",
      "นอกจากนี้ ธนาคารมีเครือข่ายการให้บริการในต่างประเทศรวม 16 แห่ง ใน 8\n",
      "ประเทศ มีศูนย์กลางการดำเนินงานและให้บริการที่สำนักงานใหญ่\n"
     ]
    }
   ],
   "source": [
    "bussiness_type = doc[3].get_text().split(\"ประเภทธุรกิจ\\n:\")[1].strip().split(\"\\nเลขทะเบียนบริษัท\")[0]\n",
    "print(bussiness_type)"
   ]
  },
  {
   "cell_type": "code",
   "execution_count": 5,
   "id": "593bd622",
   "metadata": {},
   "outputs": [],
   "source": [
    "first_page_index = toc.index[toc[\"topic\"] == \"StructureAndOperation\"][0]\n",
    "end_page_index = first_page_index + 1\n",
    "first_page, end_page = toc.loc[[first_page_index, end_page_index]][\"page\"].to_list()"
   ]
  },
  {
   "cell_type": "code",
   "execution_count": 6,
   "id": "f99403c7",
   "metadata": {},
   "outputs": [
    {
     "data": {
      "text/html": [
       "<div>\n",
       "<style scoped>\n",
       "    .dataframe tbody tr th:only-of-type {\n",
       "        vertical-align: middle;\n",
       "    }\n",
       "\n",
       "    .dataframe tbody tr th {\n",
       "        vertical-align: top;\n",
       "    }\n",
       "\n",
       "    .dataframe thead th {\n",
       "        text-align: right;\n",
       "    }\n",
       "</style>\n",
       "<table border=\"1\" class=\"dataframe\">\n",
       "  <thead>\n",
       "    <tr style=\"text-align: right;\">\n",
       "      <th></th>\n",
       "      <th>detail</th>\n",
       "      <th>2564</th>\n",
       "      <th>2565</th>\n",
       "      <th>2566</th>\n",
       "    </tr>\n",
       "  </thead>\n",
       "  <tbody>\n",
       "    <tr>\n",
       "      <th>1</th>\n",
       "      <td>รายได้จากการดำเนินงานรวม (พันบาท)</td>\n",
       "      <td>163,348,945.00</td>\n",
       "      <td>173,257,605.00</td>\n",
       "      <td>192,653,621.00</td>\n",
       "    </tr>\n",
       "    <tr>\n",
       "      <th>2</th>\n",
       "      <td>รายได้ดอกเบี้ยสุทธิ (พันบาท)</td>\n",
       "      <td>119,390,486.00</td>\n",
       "      <td>132,998,355.00</td>\n",
       "      <td>148,443,946.00</td>\n",
       "    </tr>\n",
       "    <tr>\n",
       "      <th>3</th>\n",
       "      <td>รายได้ที่มิใช่ดอกเบี้ย (พันบาท)</td>\n",
       "      <td>43,958,459.00</td>\n",
       "      <td>40,259,250.00</td>\n",
       "      <td>44,209,675.00</td>\n",
       "    </tr>\n",
       "  </tbody>\n",
       "</table>\n",
       "</div>"
      ],
      "text/plain": [
       "                              detail            2564            2565  \\\n",
       "1  รายได้จากการดำเนินงานรวม (พันบาท)  163,348,945.00  173,257,605.00   \n",
       "2       รายได้ดอกเบี้ยสุทธิ (พันบาท)  119,390,486.00  132,998,355.00   \n",
       "3    รายได้ที่มิใช่ดอกเบี้ย (พันบาท)   43,958,459.00   40,259,250.00   \n",
       "\n",
       "             2566  \n",
       "1  192,653,621.00  \n",
       "2  148,443,946.00  \n",
       "3   44,209,675.00  "
      ]
     },
     "metadata": {},
     "output_type": "display_data"
    },
    {
     "data": {
      "text/html": [
       "<div>\n",
       "<style scoped>\n",
       "    .dataframe tbody tr th:only-of-type {\n",
       "        vertical-align: middle;\n",
       "    }\n",
       "\n",
       "    .dataframe tbody tr th {\n",
       "        vertical-align: top;\n",
       "    }\n",
       "\n",
       "    .dataframe thead th {\n",
       "        text-align: right;\n",
       "    }\n",
       "</style>\n",
       "<table border=\"1\" class=\"dataframe\">\n",
       "  <thead>\n",
       "    <tr style=\"text-align: right;\">\n",
       "      <th></th>\n",
       "      <th>detail</th>\n",
       "      <th>2564</th>\n",
       "      <th>2565</th>\n",
       "      <th>2566</th>\n",
       "    </tr>\n",
       "  </thead>\n",
       "  <tbody>\n",
       "    <tr>\n",
       "      <th>0</th>\n",
       "      <td>รายได้จากการดำเนินงานรวม (%)</td>\n",
       "      <td>100.00</td>\n",
       "      <td>100.00</td>\n",
       "      <td>100.00</td>\n",
       "    </tr>\n",
       "    <tr>\n",
       "      <th>1</th>\n",
       "      <td>รายได้ดอกเบี้ยสุทธิ (%)</td>\n",
       "      <td>73.09</td>\n",
       "      <td>76.76</td>\n",
       "      <td>77.05</td>\n",
       "    </tr>\n",
       "    <tr>\n",
       "      <th>2</th>\n",
       "      <td>รายได้ที่มิใช่ดอกเบี้ย (%)</td>\n",
       "      <td>26.91</td>\n",
       "      <td>23.24</td>\n",
       "      <td>22.95</td>\n",
       "    </tr>\n",
       "  </tbody>\n",
       "</table>\n",
       "</div>"
      ],
      "text/plain": [
       "                         detail    2564    2565    2566\n",
       "0  รายได้จากการดำเนินงานรวม (%)  100.00  100.00  100.00\n",
       "1       รายได้ดอกเบี้ยสุทธิ (%)   73.09   76.76   77.05\n",
       "2    รายได้ที่มิใช่ดอกเบี้ย (%)   26.91   23.24   22.95"
      ]
     },
     "metadata": {},
     "output_type": "display_data"
    },
    {
     "data": {
      "text/html": [
       "<div>\n",
       "<style scoped>\n",
       "    .dataframe tbody tr th:only-of-type {\n",
       "        vertical-align: middle;\n",
       "    }\n",
       "\n",
       "    .dataframe tbody tr th {\n",
       "        vertical-align: top;\n",
       "    }\n",
       "\n",
       "    .dataframe thead th {\n",
       "        text-align: right;\n",
       "    }\n",
       "</style>\n",
       "<table border=\"1\" class=\"dataframe\">\n",
       "  <thead>\n",
       "    <tr style=\"text-align: right;\">\n",
       "      <th></th>\n",
       "      <th>detail</th>\n",
       "      <th>2564</th>\n",
       "      <th>2565</th>\n",
       "      <th>2566</th>\n",
       "    </tr>\n",
       "  </thead>\n",
       "  <tbody>\n",
       "    <tr>\n",
       "      <th>1</th>\n",
       "      <td>รายได้จากการดำเนินงานรวม (พันบาท)</td>\n",
       "      <td>163,348,945.00</td>\n",
       "      <td>173,257,605.00</td>\n",
       "      <td>192,653,621.00</td>\n",
       "    </tr>\n",
       "    <tr>\n",
       "      <th>2</th>\n",
       "      <td>รายได้จากในประเทศ (พันบาท)</td>\n",
       "      <td>163,348,945.00</td>\n",
       "      <td>173,257,605.00</td>\n",
       "      <td>192,653,621.00</td>\n",
       "    </tr>\n",
       "    <tr>\n",
       "      <th>3</th>\n",
       "      <td>รายได้จากต่างประเทศ (พันบาท)</td>\n",
       "      <td>0.00</td>\n",
       "      <td>0.00</td>\n",
       "      <td>0.00</td>\n",
       "    </tr>\n",
       "  </tbody>\n",
       "</table>\n",
       "</div>"
      ],
      "text/plain": [
       "                              detail            2564            2565  \\\n",
       "1  รายได้จากการดำเนินงานรวม (พันบาท)  163,348,945.00  173,257,605.00   \n",
       "2         รายได้จากในประเทศ (พันบาท)  163,348,945.00  173,257,605.00   \n",
       "3       รายได้จากต่างประเทศ (พันบาท)            0.00            0.00   \n",
       "\n",
       "             2566  \n",
       "1  192,653,621.00  \n",
       "2  192,653,621.00  \n",
       "3            0.00  "
      ]
     },
     "metadata": {},
     "output_type": "display_data"
    },
    {
     "data": {
      "text/html": [
       "<div>\n",
       "<style scoped>\n",
       "    .dataframe tbody tr th:only-of-type {\n",
       "        vertical-align: middle;\n",
       "    }\n",
       "\n",
       "    .dataframe tbody tr th {\n",
       "        vertical-align: top;\n",
       "    }\n",
       "\n",
       "    .dataframe thead th {\n",
       "        text-align: right;\n",
       "    }\n",
       "</style>\n",
       "<table border=\"1\" class=\"dataframe\">\n",
       "  <thead>\n",
       "    <tr style=\"text-align: right;\">\n",
       "      <th></th>\n",
       "      <th>detail</th>\n",
       "      <th>2564</th>\n",
       "      <th>2565</th>\n",
       "      <th>2566</th>\n",
       "    </tr>\n",
       "  </thead>\n",
       "  <tbody>\n",
       "    <tr>\n",
       "      <th>0</th>\n",
       "      <td>รายได้จากการดำเนินงานรวม (%)</td>\n",
       "      <td>100.00</td>\n",
       "      <td>100.00</td>\n",
       "      <td>100.00</td>\n",
       "    </tr>\n",
       "    <tr>\n",
       "      <th>1</th>\n",
       "      <td>รายได้จากในประเทศ (%)</td>\n",
       "      <td>100.00</td>\n",
       "      <td>100.00</td>\n",
       "      <td>100.00</td>\n",
       "    </tr>\n",
       "    <tr>\n",
       "      <th>2</th>\n",
       "      <td>รายได้จากต่างประเทศ (%)</td>\n",
       "      <td>0.00</td>\n",
       "      <td>0.00</td>\n",
       "      <td>0.00</td>\n",
       "    </tr>\n",
       "  </tbody>\n",
       "</table>\n",
       "</div>"
      ],
      "text/plain": [
       "                         detail    2564    2565    2566\n",
       "0  รายได้จากการดำเนินงานรวม (%)  100.00  100.00  100.00\n",
       "1         รายได้จากในประเทศ (%)  100.00  100.00  100.00\n",
       "2       รายได้จากต่างประเทศ (%)    0.00    0.00    0.00"
      ]
     },
     "metadata": {},
     "output_type": "display_data"
    },
    {
     "data": {
      "text/html": [
       "<div>\n",
       "<style scoped>\n",
       "    .dataframe tbody tr th:only-of-type {\n",
       "        vertical-align: middle;\n",
       "    }\n",
       "\n",
       "    .dataframe tbody tr th {\n",
       "        vertical-align: top;\n",
       "    }\n",
       "\n",
       "    .dataframe thead th {\n",
       "        text-align: right;\n",
       "    }\n",
       "</style>\n",
       "<table border=\"1\" class=\"dataframe\">\n",
       "  <thead>\n",
       "    <tr style=\"text-align: right;\">\n",
       "      <th></th>\n",
       "      <th>detail</th>\n",
       "      <th>2564</th>\n",
       "      <th>2565</th>\n",
       "      <th>2566</th>\n",
       "    </tr>\n",
       "  </thead>\n",
       "  <tbody>\n",
       "    <tr>\n",
       "      <th>1</th>\n",
       "      <td>รายได้อื่นรวม (พันบาท)</td>\n",
       "      <td>0.00</td>\n",
       "      <td>0.00</td>\n",
       "      <td>0.00</td>\n",
       "    </tr>\n",
       "    <tr>\n",
       "      <th>2</th>\n",
       "      <td>รายได้อื่นจากการดำเนินงาน (พันบาท)</td>\n",
       "      <td>0.00</td>\n",
       "      <td>0.00</td>\n",
       "      <td>0.00</td>\n",
       "    </tr>\n",
       "    <tr>\n",
       "      <th>3</th>\n",
       "      <td>รายได้อื่นนอกเหนือจากการดำเนินงาน (พันบาท)</td>\n",
       "      <td>0.00</td>\n",
       "      <td>0.00</td>\n",
       "      <td>0.00</td>\n",
       "    </tr>\n",
       "  </tbody>\n",
       "</table>\n",
       "</div>"
      ],
      "text/plain": [
       "                                       detail  2564  2565  2566\n",
       "1                      รายได้อื่นรวม (พันบาท)  0.00  0.00  0.00\n",
       "2          รายได้อื่นจากการดำเนินงาน (พันบาท)  0.00  0.00  0.00\n",
       "3  รายได้อื่นนอกเหนือจากการดำเนินงาน (พันบาท)  0.00  0.00  0.00"
      ]
     },
     "metadata": {},
     "output_type": "display_data"
    },
    {
     "data": {
      "text/html": [
       "<div>\n",
       "<style scoped>\n",
       "    .dataframe tbody tr th:only-of-type {\n",
       "        vertical-align: middle;\n",
       "    }\n",
       "\n",
       "    .dataframe tbody tr th {\n",
       "        vertical-align: top;\n",
       "    }\n",
       "\n",
       "    .dataframe thead th {\n",
       "        text-align: right;\n",
       "    }\n",
       "</style>\n",
       "<table border=\"1\" class=\"dataframe\">\n",
       "  <thead>\n",
       "    <tr style=\"text-align: right;\">\n",
       "      <th></th>\n",
       "      <th>รายการ (หน่วย : พันบาท)</th>\n",
       "      <th>2564</th>\n",
       "      <th>2565</th>\n",
       "      <th>2566</th>\n",
       "    </tr>\n",
       "  </thead>\n",
       "  <tbody>\n",
       "    <tr>\n",
       "      <th>0</th>\n",
       "      <td>ค่าใช้จ่ายการทำวิจัยและพัฒนา (R&amp;D) ในระยะเวลา ...</td>\n",
       "      <td>N/A</td>\n",
       "      <td>N/A</td>\n",
       "      <td>N/A</td>\n",
       "    </tr>\n",
       "  </tbody>\n",
       "</table>\n",
       "</div>"
      ],
      "text/plain": [
       "                             รายการ (หน่วย : พันบาท) 2564 2565 2566\n",
       "0  ค่าใช้จ่ายการทำวิจัยและพัฒนา (R&D) ในระยะเวลา ...  N/A  N/A  N/A"
      ]
     },
     "metadata": {},
     "output_type": "display_data"
    }
   ],
   "source": [
    "from IPython.display import display\n",
    "import duckdb\n",
    "\n",
    "structure_type = \"Not defined\"\n",
    "\n",
    "def get_sql_create_a_table_from_dataframe(df: pd.DataFrame, name: str) -> str:\n",
    "    duckdb.sql(f\"CREATE TABLE IF NOT EXISTS '{name}' AS SELECT * FROM df\")\n",
    "\n",
    "    # insert into the table \"my_table\" from the DataFrame \"my_df\"\n",
    "    duckdb.sql(f\"INSERT INTO '{name}' SELECT * FROM df\")\n",
    "    \n",
    "\n",
    "for page in range(first_page, end_page):\n",
    "    for table in doc[page].find_tables():\n",
    "        df = table.to_pandas()\n",
    "        if \"Col1\" in df.columns:\n",
    "            columns_list = df.columns.to_list()\n",
    "            columns_list[1:] = df.iloc[0].to_list()[1:]\n",
    "            structure_type = columns_list[0]\n",
    "            columns_list[0] = \"detail\"\n",
    "            df.columns = columns_list\n",
    "            df = df.iloc[1:]\n",
    "\n",
    "        if \"Col0\" in df.columns:\n",
    "            df.columns = columns_list\n",
    "        get_sql_create_a_table_from_dataframe(df, structure_type)\n",
    "        display(df)"
   ]
  },
  {
   "cell_type": "code",
   "execution_count": 7,
   "id": "8034342e",
   "metadata": {},
   "outputs": [],
   "source": [
    "tables = duckdb.sql(\"SHOW TABLES\")"
   ]
  },
  {
   "cell_type": "code",
   "execution_count": 8,
   "id": "11750f77",
   "metadata": {},
   "outputs": [
    {
     "data": {
      "text/html": [
       "<div>\n",
       "<style scoped>\n",
       "    .dataframe tbody tr th:only-of-type {\n",
       "        vertical-align: middle;\n",
       "    }\n",
       "\n",
       "    .dataframe tbody tr th {\n",
       "        vertical-align: top;\n",
       "    }\n",
       "\n",
       "    .dataframe thead th {\n",
       "        text-align: right;\n",
       "    }\n",
       "</style>\n",
       "<table border=\"1\" class=\"dataframe\">\n",
       "  <thead>\n",
       "    <tr style=\"text-align: right;\">\n",
       "      <th></th>\n",
       "      <th>name</th>\n",
       "    </tr>\n",
       "  </thead>\n",
       "  <tbody>\n",
       "    <tr>\n",
       "      <th>0</th>\n",
       "      <td>รายได้อื่น ตามที่ระบุในงบการเงิน</td>\n",
       "    </tr>\n",
       "    <tr>\n",
       "      <th>1</th>\n",
       "      <td>โครงสร้างรายได้ของสายผลิตภัณฑ์หรือกลุ่มธุรกิจ</td>\n",
       "    </tr>\n",
       "    <tr>\n",
       "      <th>2</th>\n",
       "      <td>โครงสร้างรายได้จากในประเทศและจากต่างประเทศ</td>\n",
       "    </tr>\n",
       "  </tbody>\n",
       "</table>\n",
       "</div>"
      ],
      "text/plain": [
       "                                            name\n",
       "0               รายได้อื่น ตามที่ระบุในงบการเงิน\n",
       "1  โครงสร้างรายได้ของสายผลิตภัณฑ์หรือกลุ่มธุรกิจ\n",
       "2     โครงสร้างรายได้จากในประเทศและจากต่างประเทศ"
      ]
     },
     "execution_count": 8,
     "metadata": {},
     "output_type": "execute_result"
    }
   ],
   "source": [
    "tables.to_df()"
   ]
  },
  {
   "cell_type": "code",
   "execution_count": 30,
   "id": "9175396f",
   "metadata": {},
   "outputs": [
    {
     "name": "stdout",
     "output_type": "stream",
     "text": [
      "| detail                         | 2564           | 2565           | 2566           |\n",
      "|:-------------------------------|:---------------|:---------------|:---------------|\n",
      "| รายได้จากการดำเนินงานรวม (พันบาท) | 163,348,945.00 | 173,257,605.00 | 192,653,621.00 |\n",
      "| รายได้จากในประเทศ (พันบาท)       | 163,348,945.00 | 173,257,605.00 | 192,653,621.00 |\n",
      "| รายได้จากต่างประเทศ (พันบาท)      | 0.00           | 0.00           | 0.00           |\n",
      "| รายได้จากการดำเนินงานรวม (%)     | 100.00         | 100.00         | 100.00         |\n",
      "| รายได้จากในประเทศ (%)           | 100.00         | 100.00         | 100.00         |\n",
      "| รายได้จากต่างประเทศ (%)          | 0.00           | 0.00           | 0.00           |\n"
     ]
    }
   ],
   "source": [
    "table = \"โครงสร้างรายได้จากในประเทศและจากต่างประเทศ\"\n",
    "print(duckdb.sql(f\"SELECT * FROM '{table}'\").to_df().drop_duplicates().to_markdown(index=False))"
   ]
  },
  {
   "cell_type": "code",
   "execution_count": 32,
   "id": "e7c2cca3",
   "metadata": {},
   "outputs": [
    {
     "name": "stdout",
     "output_type": "stream",
     "text": [
      "| detail                         | 2564           | 2565           | 2566           |\n",
      "|:-------------------------------|:---------------|:---------------|:---------------|\n",
      "| รายได้จากการดำเนินงานรวม (พันบาท) | 163,348,945.00 | 173,257,605.00 | 192,653,621.00 |\n",
      "| รายได้ดอกเบี้ยสุทธิ (พันบาท)         | 119,390,486.00 | 132,998,355.00 | 148,443,946.00 |\n",
      "| รายได้ที่มิใช่ดอกเบี้ย (พันบาท)        | 43,958,459.00  | 40,259,250.00  | 44,209,675.00  |\n",
      "| รายได้จากการดำเนินงานรวม (%)     | 100.00         | 100.00         | 100.00         |\n",
      "| รายได้ดอกเบี้ยสุทธิ (%)             | 73.09          | 76.76          | 77.05          |\n",
      "| รายได้ที่มิใช่ดอกเบี้ย (%)            | 26.91          | 23.24          | 22.95          |\n"
     ]
    }
   ],
   "source": [
    "print(duckdb.sql(\"SELECT * FROM 'โครงสร้างรายได้ของสายผลิตภัณฑ์หรือกลุ่มธุรกิจ'\").to_df().drop_duplicates().to_markdown(index=False))"
   ]
  },
  {
   "cell_type": "code",
   "execution_count": 34,
   "id": "e85f7855",
   "metadata": {},
   "outputs": [
    {
     "name": "stdout",
     "output_type": "stream",
     "text": [
      "| detail                                      | 2564   | 2565   | 2566   |\n",
      "|:--------------------------------------------|:-------|:-------|:-------|\n",
      "| รายได้อื่นรวม (พันบาท)                          | 0.00   | 0.00   | 0.00   |\n",
      "| รายได้อื่นจากการดำเนินงาน (พันบาท)               | 0.00   | 0.00   | 0.00   |\n",
      "| รายได้อื่นนอกเหนือจากการดำเนินงาน (พันบาท)        | 0.00   | 0.00   | 0.00   |\n",
      "| ค่าใช้จ่ายการทำวิจัยและพัฒนา (R&D) ในระยะเวลา 3 ปี | N/A    | N/A    | N/A    |\n",
      "| ที่ผ่านมา                                      |        |        |        |\n"
     ]
    }
   ],
   "source": [
    "print(duckdb.sql(\"SELECT * FROM 'รายได้อื่น ตามที่ระบุในงบการเงิน'\").to_df().drop_duplicates().to_markdown(index=False))"
   ]
  },
  {
   "cell_type": "code",
   "execution_count": 27,
   "id": "c6e52b44",
   "metadata": {},
   "outputs": [
    {
     "name": "stdout",
     "output_type": "stream",
     "text": [
      "ธนาคารกสิกรไทย จำกัด (มหาชน) ประกอบกิจการธนาคารพาณิชย์ ธุรกิจ\n",
      "หลักทรัพย์และธุรกิจที่เกี่ยวเนื่องตามที่ได้รับอนุญาตไว้ในพระราชบัญญัติธุรกิจ\n",
      "สถาบันการเงินฯ และพระราชบัญญัติหลักทรัพย์และตลาดหลักทรัพย์ฯ และ\n",
      "ประกาศที่เกี่ยวข้อง โดย ณ วันที่ 31 ธันวาคม 2566 ธนาคารมีเครือข่ายสาขา\n",
      "จำนวน 809 สาขา และเครื่องอิเล็กทรอนิกส์สำหรับทำธุรกรรมด้วยตนเอง\n",
      "10,903 เครื่อง ครอบคลุมทุกพื้นที่และเพียงพอต่อความต้องการของลูกค้า\n",
      "นอกจากนี้ ธนาคารมีเครือข่ายการให้บริการในต่างประเทศรวม 16 แห่ง ใน 8\n",
      "ประเทศ มีศูนย์กลางการดำเนินงานและให้บริการที่สำนักงานใหญ่\n"
     ]
    }
   ],
   "source": [
    "print(doc[3].get_text().split(\"ประเภทธุรกิจ\\n:\")[1].strip().split(\"\\nเลขทะเบียนบริษัท\")[0])"
   ]
  }
 ],
 "metadata": {
  "kernelspec": {
   "display_name": "Python 3 (ipykernel)",
   "language": "python",
   "name": "python3"
  },
  "language_info": {
   "codemirror_mode": {
    "name": "ipython",
    "version": 3
   },
   "file_extension": ".py",
   "mimetype": "text/x-python",
   "name": "python",
   "nbconvert_exporter": "python",
   "pygments_lexer": "ipython3",
   "version": "3.11.5"
  }
 },
 "nbformat": 4,
 "nbformat_minor": 5
}
