{
 "cells": [
  {
   "cell_type": "code",
   "execution_count": 1,
   "id": "929e581b",
   "metadata": {},
   "outputs": [
    {
     "name": "stdout",
     "output_type": "stream",
     "text": [
      "Requirement already satisfied: beautifulsoup4==4.12.2 in /Users/premchotipanit/miniconda3/envs/py11/lib/python3.11/site-packages (4.12.2)\n",
      "Requirement already satisfied: soupsieve>1.2 in /Users/premchotipanit/miniconda3/envs/py11/lib/python3.11/site-packages (from beautifulsoup4==4.12.2) (2.5)\n",
      "Requirement already satisfied: PyMuPDFb==1.24.10 in /Users/premchotipanit/miniconda3/envs/py11/lib/python3.11/site-packages (1.24.10)\n",
      "Requirement already satisfied: tqdm in /Users/premchotipanit/miniconda3/envs/py11/lib/python3.11/site-packages (4.66.1)\n"
     ]
    }
   ],
   "source": [
    "!pip install beautifulsoup4==4.12.2\n",
    "!pip install PyMuPDFb==1.24.10\n",
    "!pip install tqdm"
   ]
  },
  {
   "cell_type": "markdown",
   "id": "905ec54b",
   "metadata": {},
   "source": [
    "# Download 56-1 file"
   ]
  },
  {
   "cell_type": "code",
   "execution_count": 2,
   "id": "0c037f69",
   "metadata": {},
   "outputs": [
    {
     "name": "stdout",
     "output_type": "stream",
     "text": [
      "Searching the balance sheet file\n",
      "Found at https://market.sec.or.th/public/idisc/Download?FILEID=dat/f56/0016ONE120320242034060731T.zip\n",
      "Downloading...\n"
     ]
    },
    {
     "name": "stderr",
     "output_type": "stream",
     "text": [
      "11.4MB [00:01, 5.72MB/s]                                                          \n"
     ]
    },
    {
     "name": "stdout",
     "output_type": "stream",
     "text": [
      "Done\n"
     ]
    }
   ],
   "source": [
    "import requests\n",
    "from bs4 import BeautifulSoup\n",
    "import os\n",
    "import zipfile\n",
    "from tqdm import tqdm\n",
    "\n",
    "\n",
    "ROOT = \"downloaded-56-1\"\n",
    "SYMBOL = \"KBANK\"  # Change this symbol\n",
    "FILE_PATH = f\"{ROOT}/{SYMBOL}\"\n",
    "PATH_TO_TARGET = f\"{FILE_PATH}/{SYMBOL}.zip\"\n",
    "session = requests.Session()\n",
    "\n",
    "\n",
    "\n",
    "os.makedirs(FILE_PATH, exist_ok=True)\n",
    "print(\"Searching the balance sheet file\")\n",
    "\n",
    "response = session.get(\n",
    "    f\"https://market.sec.or.th/public/idisc/th/Viewmore/fs-r561?searchSymbol={SYMBOL}\",\n",
    ")\n",
    "soup = BeautifulSoup(response.text)\n",
    "url = soup.find_all(\"tr\")[1].find_all(\"td\")[-1].find(\"a\")[\"href\"]\n",
    "\n",
    "print(f\"Found at {url}\")\n",
    "# Sizes in bytes.\n",
    "total_size = int(response.headers.get(\"content-length\", 0))\n",
    "block_size = 1024\n",
    "response = session.get(url, stream=True)\n",
    "\n",
    "print(\"Downloading...\")\n",
    "with tqdm(total=total_size, unit=\"B\", unit_scale=True) as progress_bar:\n",
    "    with open(PATH_TO_TARGET, \"wb\") as file:\n",
    "        for data in response.iter_content(block_size):\n",
    "            progress_bar.update(len(data))\n",
    "            file.write(data)\n",
    "\n",
    "    \n",
    "# with open(PATH_TO_TARGET, \"wb\") as f:\n",
    "#     f.write(requests.get(url).content)\n",
    "\n",
    "with zipfile.ZipFile(PATH_TO_TARGET, 'r') as zip_ref:\n",
    "    zip_ref.extractall(FILE_PATH)\n",
    "print(\"Done\")"
   ]
  },
  {
   "cell_type": "code",
   "execution_count": 9,
   "id": "16638a20",
   "metadata": {},
   "outputs": [
    {
     "name": "stdout",
     "output_type": "stream",
     "text": [
      "Downloading...\n"
     ]
    },
    {
     "name": "stderr",
     "output_type": "stream",
     "text": [
      "11.4MB [00:01, 10.2MB/s]                                                          \n"
     ]
    },
    {
     "name": "stdout",
     "output_type": "stream",
     "text": [
      "Done\n"
     ]
    }
   ],
   "source": [
    "response = session.get(url, headers=headers, stream=True)\n",
    "\n",
    "print(\"Downloading...\")\n",
    "with tqdm(total=total_size, unit=\"B\", unit_scale=True) as progress_bar:\n",
    "    with open(PATH_TO_TARGET, \"wb\") as file:\n",
    "        for data in response.iter_content(block_size):\n",
    "            progress_bar.update(len(data))\n",
    "            file.write(data)\n",
    "\n",
    "    \n",
    "# with open(PATH_TO_TARGET, \"wb\") as f:\n",
    "#     f.write(requests.get(url).content)\n",
    "\n",
    "with zipfile.ZipFile(PATH_TO_TARGET, 'r') as zip_ref:\n",
    "    zip_ref.extractall(FILE_PATH)\n",
    "print(\"Done\")"
   ]
  },
  {
   "cell_type": "markdown",
   "id": "67e617a3",
   "metadata": {},
   "source": [
    "# Extract table of contents"
   ]
  },
  {
   "cell_type": "code",
   "execution_count": 7,
   "id": "744bb37b",
   "metadata": {},
   "outputs": [
    {
     "data": {
      "text/plain": [
       "[[1, 'Cover', 1],\n",
       " [1, 'TableContent', 2],\n",
       " [1, 'Bookmark', 3],\n",
       " [1, 'StructureAndOperation', 4],\n",
       " [1, 'Bookmark', 7],\n",
       " [1, 'RiskManagement', 8],\n",
       " [1, 'Bookmark', 11],\n",
       " [1, 'ESG', 12],\n",
       " [1, 'Bookmark', 15],\n",
       " [1, 'CorporateGovernancePolicy', 16],\n",
       " [1, 'Bookmark', 17],\n",
       " [1, 'CorporateGovernanceStructure', 18],\n",
       " [1, 'Bookmark', 30],\n",
       " [1, 'ResultOfCorporateGovernance', 31]]"
      ]
     },
     "execution_count": 7,
     "metadata": {},
     "output_type": "execute_result"
    }
   ],
   "source": [
    "import fitz\n",
    "\n",
    "def to_html(filepath: str):\n",
    "    doc = fitz.open(filepath)\n",
    "    for i, page in enumerate(doc):\n",
    "        text = page.get_text(\"html\")\n",
    "        with open(f\"pymupdf-page-{i}.html\", \"w\") as fp:\n",
    "            fp.write(text)\n",
    "    doc.close()\n",
    "    \n",
    "doc = fitz.open(f'{FILE_PATH}/STRUCTURE{SYMBOL}T.PDF')\n",
    "doc.get_toc()"
   ]
  },
  {
   "cell_type": "markdown",
   "id": "e6a267a6",
   "metadata": {},
   "source": [
    "# Extract tables"
   ]
  },
  {
   "cell_type": "code",
   "execution_count": 38,
   "id": "edadcb89",
   "metadata": {},
   "outputs": [
    {
     "data": {
      "text/html": [
       "<div>\n",
       "<style scoped>\n",
       "    .dataframe tbody tr th:only-of-type {\n",
       "        vertical-align: middle;\n",
       "    }\n",
       "\n",
       "    .dataframe tbody tr th {\n",
       "        vertical-align: top;\n",
       "    }\n",
       "\n",
       "    .dataframe thead th {\n",
       "        text-align: right;\n",
       "    }\n",
       "</style>\n",
       "<table border=\"1\" class=\"dataframe\">\n",
       "  <thead>\n",
       "    <tr style=\"text-align: right;\">\n",
       "      <th></th>\n",
       "      <th>รายการ (หน่วย : พันบาท)</th>\n",
       "      <th>2564</th>\n",
       "      <th>2565</th>\n",
       "      <th>2566</th>\n",
       "    </tr>\n",
       "  </thead>\n",
       "  <tbody>\n",
       "    <tr>\n",
       "      <th>0</th>\n",
       "      <td>ค่าใช้จ่ายการทำวิจัยและพัฒนา (R&amp;D) ในระยะเวลา ...</td>\n",
       "      <td>N/A</td>\n",
       "      <td>N/A</td>\n",
       "      <td>N/A</td>\n",
       "    </tr>\n",
       "  </tbody>\n",
       "</table>\n",
       "</div>"
      ],
      "text/plain": [
       "                             รายการ (หน่วย : พันบาท) 2564 2565 2566\n",
       "0  ค่าใช้จ่ายการทำวิจัยและพัฒนา (R&D) ในระยะเวลา ...  N/A  N/A  N/A"
      ]
     },
     "execution_count": 38,
     "metadata": {},
     "output_type": "execute_result"
    }
   ],
   "source": [
    "table = doc[5].find_tables()[1]\n",
    "# print(doc.get_page_text(5))\n",
    "table.to_pandas()"
   ]
  },
  {
   "cell_type": "code",
   "execution_count": 39,
   "id": "6dcc3dd9",
   "metadata": {},
   "outputs": [
    {
     "data": {
      "text/html": [
       "<div>\n",
       "<style scoped>\n",
       "    .dataframe tbody tr th:only-of-type {\n",
       "        vertical-align: middle;\n",
       "    }\n",
       "\n",
       "    .dataframe tbody tr th {\n",
       "        vertical-align: top;\n",
       "    }\n",
       "\n",
       "    .dataframe thead th {\n",
       "        text-align: right;\n",
       "    }\n",
       "</style>\n",
       "<table border=\"1\" class=\"dataframe\">\n",
       "  <thead>\n",
       "    <tr style=\"text-align: right;\">\n",
       "      <th></th>\n",
       "      <th>• การฝึกอบรมและพัฒนาพนักงาน</th>\n",
       "      <th>Col1</th>\n",
       "      <th>Col2</th>\n",
       "      <th>Col3</th>\n",
       "    </tr>\n",
       "  </thead>\n",
       "  <tbody>\n",
       "    <tr>\n",
       "      <th>0</th>\n",
       "      <td></td>\n",
       "      <td>2564</td>\n",
       "      <td>2565</td>\n",
       "      <td>2566</td>\n",
       "    </tr>\n",
       "    <tr>\n",
       "      <th>1</th>\n",
       "      <td>จำนวนชั่วโมงอบรมเฉลี่ยของพนักงาน (ชั่วโมง/คน/ปี)</td>\n",
       "      <td>37.40</td>\n",
       "      <td>40.40</td>\n",
       "      <td>34.50</td>\n",
       "    </tr>\n",
       "  </tbody>\n",
       "</table>\n",
       "</div>"
      ],
      "text/plain": [
       "                        • การฝึกอบรมและพัฒนาพนักงาน   Col1   Col2   Col3\n",
       "0                                                     2564   2565   2566\n",
       "1  จำนวนชั่วโมงอบรมเฉลี่ยของพนักงาน (ชั่วโมง/คน/ปี)  37.40  40.40  34.50"
      ]
     },
     "execution_count": 39,
     "metadata": {},
     "output_type": "execute_result"
    }
   ],
   "source": [
    "table = doc[13].find_tables()[1]\n",
    "# print(doc.get_page_text(5))\n",
    "table.to_pandas()"
   ]
  },
  {
   "cell_type": "code",
   "execution_count": 47,
   "id": "2a5ca63c",
   "metadata": {},
   "outputs": [
    {
     "data": {
      "text/html": [
       "<div>\n",
       "<style scoped>\n",
       "    .dataframe tbody tr th:only-of-type {\n",
       "        vertical-align: middle;\n",
       "    }\n",
       "\n",
       "    .dataframe tbody tr th {\n",
       "        vertical-align: top;\n",
       "    }\n",
       "\n",
       "    .dataframe thead th {\n",
       "        text-align: right;\n",
       "    }\n",
       "</style>\n",
       "<table border=\"1\" class=\"dataframe\">\n",
       "  <thead>\n",
       "    <tr style=\"text-align: right;\">\n",
       "      <th></th>\n",
       "      <th>รายชื่อกรรมการชุดปัจจุบัน</th>\n",
       "      <th>Col1</th>\n",
       "      <th>Col2</th>\n",
       "      <th>Col3</th>\n",
       "    </tr>\n",
       "  </thead>\n",
       "  <tbody>\n",
       "    <tr>\n",
       "      <th>0</th>\n",
       "      <td>ข้อมูลทั่วไป</td>\n",
       "      <td>ตำแหน่งของกรรมการ</td>\n",
       "      <td>วันเริ่มดำรงตำแหน่ง</td>\n",
       "      <td>ประสบการณ์และความชำนาญ</td>\n",
       "    </tr>\n",
       "    <tr>\n",
       "      <th>1</th>\n",
       "      <td>1. นาง กอบกาญจน์ วัฒนวรางกูร\\nเพศ: หญิง\\nอายุ:...</td>\n",
       "      <td>ประธานกรรมการ\\n(กรรมการที่ไม่เป็นผู้บริหาร,\\nก...</td>\n",
       "      <td>4 เม.ย. 2561</td>\n",
       "      <td>ความยั่งยืน, การจัดการกลยุทธ์, การ\\nจัดการความ...</td>\n",
       "    </tr>\n",
       "    <tr>\n",
       "      <th>2</th>\n",
       "      <td>2. นางสาว สุจิตพรรณ ล่ำซำ\\nเพศ: หญิง\\nอายุ: 64...</td>\n",
       "      <td>รองประธานกรรมการ\\n(กรรมการที่ไม่เป็นผู้บริหาร)...</td>\n",
       "      <td>30 เม.ย. 2541</td>\n",
       "      <td>การเงิน, ความยั่งยืน, ธนาคาร, การ\\nจัดการกลยุท...</td>\n",
       "    </tr>\n",
       "  </tbody>\n",
       "</table>\n",
       "</div>"
      ],
      "text/plain": [
       "                           รายชื่อกรรมการชุดปัจจุบัน  \\\n",
       "0                                       ข้อมูลทั่วไป   \n",
       "1  1. นาง กอบกาญจน์ วัฒนวรางกูร\\nเพศ: หญิง\\nอายุ:...   \n",
       "2  2. นางสาว สุจิตพรรณ ล่ำซำ\\nเพศ: หญิง\\nอายุ: 64...   \n",
       "\n",
       "                                                Col1                 Col2  \\\n",
       "0                                  ตำแหน่งของกรรมการ  วันเริ่มดำรงตำแหน่ง   \n",
       "1  ประธานกรรมการ\\n(กรรมการที่ไม่เป็นผู้บริหาร,\\nก...         4 เม.ย. 2561   \n",
       "2  รองประธานกรรมการ\\n(กรรมการที่ไม่เป็นผู้บริหาร)...        30 เม.ย. 2541   \n",
       "\n",
       "                                                Col3  \n",
       "0                             ประสบการณ์และความชำนาญ  \n",
       "1  ความยั่งยืน, การจัดการกลยุทธ์, การ\\nจัดการความ...  \n",
       "2  การเงิน, ความยั่งยืน, ธนาคาร, การ\\nจัดการกลยุท...  "
      ]
     },
     "execution_count": 47,
     "metadata": {},
     "output_type": "execute_result"
    }
   ],
   "source": [
    "table = doc[17].find_tables()[1]\n",
    "# print(doc.get_page_text(5))\n",
    "table.to_pandas()"
   ]
  }
 ],
 "metadata": {
  "kernelspec": {
   "display_name": "Python 3 (ipykernel)",
   "language": "python",
   "name": "python3"
  },
  "language_info": {
   "codemirror_mode": {
    "name": "ipython",
    "version": 3
   },
   "file_extension": ".py",
   "mimetype": "text/x-python",
   "name": "python",
   "nbconvert_exporter": "python",
   "pygments_lexer": "ipython3",
   "version": "3.11.5"
  }
 },
 "nbformat": 4,
 "nbformat_minor": 5
}
